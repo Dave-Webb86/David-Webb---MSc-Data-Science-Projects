{
 "cells": [
  {
   "cell_type": "markdown",
   "metadata": {},
   "source": [
    "# <center> Component Four David Webb 20104099 <center>"
   ]
  },
  {
   "cell_type": "code",
   "execution_count": 1,
   "metadata": {},
   "outputs": [
    {
     "name": "stdout",
     "output_type": "stream",
     "text": [
      "libraries imported\n"
     ]
    }
   ],
   "source": [
    "# import of necessary libraries for the data manipulation\n",
    "\n",
    "import numpy as np\n",
    "import pandas as pd\n",
    "from sklearn import dummy\n",
    "from sklearn import metrics\n",
    "import matplotlib.pyplot as plt\n",
    "import seaborn as sns\n",
    "%matplotlib inline\n",
    "sns.set_style(\"darkgrid\")\n",
    "sns.set_context(\"notebook\")\n",
    "\n",
    "print('libraries imported')"
   ]
  },
  {
   "cell_type": "code",
   "execution_count": 2,
   "metadata": {},
   "outputs": [
    {
     "name": "stdout",
     "output_type": "stream",
     "text": [
      "data imported\n"
     ]
    }
   ],
   "source": [
    "# load master dataset\n",
    "df = pd.read_csv('df.csv')\n",
    "\n",
    "print('data imported')"
   ]
  },
  {
   "cell_type": "markdown",
   "metadata": {},
   "source": [
    "### 1. Simplify the ratings variable"
   ]
  },
  {
   "cell_type": "code",
   "execution_count": 3,
   "metadata": {},
   "outputs": [],
   "source": [
    "# merge not good ratings into one output\n",
    "ng = ['Inadequate', 'Requires Improvement']\n",
    "\n",
    "for x in ng:\n",
    "    df.loc[df['Rating'].str.contains(x), 'Rating'] = 'Not Good'\n",
    "\n",
    "# drop unknown rating data from the dataset\n",
    "df = df[df['Rating'] != 'Unknown']"
   ]
  },
  {
   "cell_type": "markdown",
   "metadata": {},
   "source": [
    "### 2. Establish baseline for a model"
   ]
  },
  {
   "cell_type": "code",
   "execution_count": 4,
   "metadata": {},
   "outputs": [
    {
     "data": {
      "text/plain": [
       "Good           1625\n",
       "Not Good        612\n",
       "Outstanding     506\n",
       "Name: Rating, dtype: int64"
      ]
     },
     "execution_count": 4,
     "metadata": {},
     "output_type": "execute_result"
    }
   ],
   "source": [
    "# check frequencies of the target variable possibilities\n",
    "df['Rating'].value_counts()"
   ]
  },
  {
   "cell_type": "code",
   "execution_count": 5,
   "metadata": {},
   "outputs": [
    {
     "name": "stdout",
     "output_type": "stream",
     "text": [
      "Baseline accuracy for the 'Rating' target variable: 59.2%\n"
     ]
    }
   ],
   "source": [
    "# establish baseline accuracy\n",
    "\n",
    "# set up dummy classifier model\n",
    "# classifier is chosen due to non-numeric target variable\n",
    "cls = dummy.DummyClassifier(strategy = 'most_frequent')\n",
    "X = df.drop('Rating', axis=1)\n",
    "y = df['Rating']\n",
    "cls.fit(X, y)\n",
    "y_pred = cls.predict(X)\n",
    "\n",
    "# report dummy classifier accuracy\n",
    "baseline = round(metrics.accuracy_score(y, y_pred), 3)\n",
    "print(\"Baseline accuracy for the 'Rating' target variable: \" + str(round(baseline * 100, 1)) + '%')"
   ]
  },
  {
   "cell_type": "markdown",
   "metadata": {},
   "source": [
    "Baseline accuracy has been calculated using a most frequent strategy, where the model has simply predicted that target is always the most frequent value from the raw data.  This strategy was chosen as upon assessing the raw data the 'good' outcome is ~3x more likely to be chosen than either of the other two potential outcomes, rather than an approximately even split."
   ]
  },
  {
   "cell_type": "markdown",
   "metadata": {},
   "source": [
    "### 3. Run models with no feature engineering"
   ]
  },
  {
   "cell_type": "code",
   "execution_count": 6,
   "metadata": {},
   "outputs": [],
   "source": [
    "# set features to float only values to avoid errors in classifiers\n",
    "X = df.drop(['LA', 'GENDER', 'RELCHAR', 'PPERSABS10', 'P8_BANDING', 'OVERALL_DESTPER', 'NOT_SUSTAINEDPER', 'UNKNOWNPER',\n",
    "       'OVERALL_DESTPER_DIS', 'NOT_SUSTAINEDPER_DIS', 'UNKNOWNPER_DIS', 'Rating'], axis=1)\n",
    "y = df['Rating']"
   ]
  },
  {
   "cell_type": "code",
   "execution_count": 7,
   "metadata": {},
   "outputs": [
    {
     "data": {
      "text/plain": [
       "0.191"
      ]
     },
     "execution_count": 7,
     "metadata": {},
     "output_type": "execute_result"
    }
   ],
   "source": [
    "# run k-NN model on data using default setting (k=5, uniform weighting and euclidean distance)\n",
    "from sklearn import neighbors\n",
    "clf = neighbors.KNeighborsClassifier()\n",
    "from sklearn.model_selection import cross_val_score\n",
    "scores = cross_val_score(clf, X, y, cv=5, scoring = 'accuracy')\n",
    "knn = round(scores.mean(),3)\n",
    "knn"
   ]
  },
  {
   "cell_type": "code",
   "execution_count": 8,
   "metadata": {},
   "outputs": [
    {
     "data": {
      "text/plain": [
       "0.573"
      ]
     },
     "execution_count": 8,
     "metadata": {},
     "output_type": "execute_result"
    }
   ],
   "source": [
    "# run GaussianNB model on data\n",
    "from sklearn.naive_bayes import GaussianNB\n",
    "clf = GaussianNB()\n",
    "scores = cross_val_score(clf, X, y, cv=5, scoring = 'accuracy')\n",
    "gausNB = round(scores.mean(),3)\n",
    "gausNB"
   ]
  },
  {
   "cell_type": "code",
   "execution_count": 9,
   "metadata": {},
   "outputs": [
    {
     "data": {
      "text/plain": [
       "0.579"
      ]
     },
     "execution_count": 9,
     "metadata": {},
     "output_type": "execute_result"
    }
   ],
   "source": [
    "# run BernoulliNB model on data\n",
    "from sklearn.naive_bayes import BernoulliNB\n",
    "clf = BernoulliNB()\n",
    "scores = cross_val_score(clf, X, y, cv=5, scoring = 'accuracy')\n",
    "bernNB = round(scores.mean(),3)\n",
    "bernNB"
   ]
  },
  {
   "cell_type": "code",
   "execution_count": 10,
   "metadata": {},
   "outputs": [
    {
     "data": {
      "text/plain": [
       "0.627"
      ]
     },
     "execution_count": 10,
     "metadata": {},
     "output_type": "execute_result"
    }
   ],
   "source": [
    "# run multiclass logistic regression model on the data\n",
    "# a 'onevrest' strategy is chosen for the multiclass method\n",
    "from sklearn import linear_model\n",
    "from sklearn import multiclass\n",
    "logreg = multiclass.OneVsRestClassifier(linear_model.LogisticRegression(solver='lbfgs', max_iter=10000))\n",
    "scores = cross_val_score(logreg, X, y, cv=5, scoring = 'accuracy')\n",
    "log_reg = round(scores.mean(),3)\n",
    "log_reg\n",
    "\n",
    "# logistic regression classifier set to the default 'lbfgs' solver with a maximum number of 1000 iterations.\n",
    "# this is to stop warning errors for setting the default solver type and non-convergence timeouts"
   ]
  },
  {
   "cell_type": "code",
   "execution_count": 11,
   "metadata": {},
   "outputs": [
    {
     "data": {
      "text/plain": [
       "0.417"
      ]
     },
     "execution_count": 11,
     "metadata": {},
     "output_type": "execute_result"
    }
   ],
   "source": [
    "# removal of varaibles with negative data to allow MultinomialNB to be run on the data\n",
    "X1 = X.drop(['P8MEA', 'P8CILOW', 'P8CIUPP'], axis=1)\n",
    "\n",
    "# run MultinomialNB model on data\n",
    "from sklearn.naive_bayes import MultinomialNB\n",
    "clf = MultinomialNB()\n",
    "scores = cross_val_score(clf, X1, y, cv=5, scoring = 'accuracy')\n",
    "multiNB = round(scores.mean(),3)\n",
    "multiNB"
   ]
  },
  {
   "cell_type": "code",
   "execution_count": 12,
   "metadata": {},
   "outputs": [
    {
     "data": {
      "text/html": [
       "<div>\n",
       "<style scoped>\n",
       "    .dataframe tbody tr th:only-of-type {\n",
       "        vertical-align: middle;\n",
       "    }\n",
       "\n",
       "    .dataframe tbody tr th {\n",
       "        vertical-align: top;\n",
       "    }\n",
       "\n",
       "    .dataframe thead th {\n",
       "        text-align: right;\n",
       "    }\n",
       "</style>\n",
       "<table border=\"1\" class=\"dataframe\">\n",
       "  <thead>\n",
       "    <tr style=\"text-align: right;\">\n",
       "      <th></th>\n",
       "      <th>Classifier</th>\n",
       "      <th>No Feature Engineering</th>\n",
       "    </tr>\n",
       "  </thead>\n",
       "  <tbody>\n",
       "    <tr>\n",
       "      <td>0</td>\n",
       "      <td>Baseline</td>\n",
       "      <td>0.592</td>\n",
       "    </tr>\n",
       "    <tr>\n",
       "      <td>1</td>\n",
       "      <td>Logistic Regression</td>\n",
       "      <td>0.627</td>\n",
       "    </tr>\n",
       "    <tr>\n",
       "      <td>2</td>\n",
       "      <td>k-NN</td>\n",
       "      <td>0.191</td>\n",
       "    </tr>\n",
       "    <tr>\n",
       "      <td>3</td>\n",
       "      <td>MultinomialNB</td>\n",
       "      <td>0.417</td>\n",
       "    </tr>\n",
       "    <tr>\n",
       "      <td>4</td>\n",
       "      <td>GaussianNB</td>\n",
       "      <td>0.573</td>\n",
       "    </tr>\n",
       "    <tr>\n",
       "      <td>5</td>\n",
       "      <td>BernoulliNB</td>\n",
       "      <td>0.579</td>\n",
       "    </tr>\n",
       "  </tbody>\n",
       "</table>\n",
       "</div>"
      ],
      "text/plain": [
       "            Classifier  No Feature Engineering\n",
       "0             Baseline                   0.592\n",
       "1  Logistic Regression                   0.627\n",
       "2                 k-NN                   0.191\n",
       "3        MultinomialNB                   0.417\n",
       "4           GaussianNB                   0.573\n",
       "5          BernoulliNB                   0.579"
      ]
     },
     "execution_count": 12,
     "metadata": {},
     "output_type": "execute_result"
    }
   ],
   "source": [
    "# tabulate model data for easy comparison\n",
    "acc_scores = pd.DataFrame({'Classifier':['Baseline', 'Logistic Regression', 'k-NN', 'MultinomialNB', 'GaussianNB', 'BernoulliNB'],\n",
    "    'No Feature Engineering':[baseline, log_reg, knn, multiNB, gausNB, bernNB]})\n",
    "acc_scores"
   ]
  },
  {
   "cell_type": "markdown",
   "metadata": {},
   "source": [
    "With no feature engineering a multiclass logistic regression classifier shows the best accuracy on the data in predicting a schools OFFSTED rating, with an accuracy of 62.7% (compared to a baseline accuracy of 59.2%).  Interestingly all the other classifiers tested using this method produce worse results than the baseline accuracy of 59.2%, with k-NN performing particularly poorly. <br><br>\n",
    "It is also noted that the GaussianNB method would be the most sensible Naive Bayes classifier for the data as the majority of the variables are continuous, but all Naive Bayes classifiers are tested for completeness."
   ]
  },
  {
   "cell_type": "markdown",
   "metadata": {},
   "source": [
    "### 4. Confusion Matrix"
   ]
  },
  {
   "cell_type": "markdown",
   "metadata": {},
   "source": [
    "As it provided the best accuracy the mutliclass logistic regression classifier was chosen to generate a confusion matrix of the results."
   ]
  },
  {
   "cell_type": "code",
   "execution_count": 13,
   "metadata": {},
   "outputs": [
    {
     "name": "stdout",
     "output_type": "stream",
     "text": [
      "              precision    recall  f1-score   support\n",
      "\n",
      "        Good      0.642     0.937     0.762      1625\n",
      "    Not Good      0.674     0.155     0.252       612\n",
      " Outstanding      0.728     0.328     0.452       506\n",
      "\n",
      "    accuracy                          0.650      2743\n",
      "   macro avg      0.681     0.474     0.489      2743\n",
      "weighted avg      0.665     0.650     0.591      2743\n",
      "\n"
     ]
    },
    {
     "data": {
      "image/png": "[encoded data removed]",
      "text/plain": [
       "<Figure size 576x576 with 1 Axes>"
      ]
     },
     "metadata": {
      "needs_background": "light"
     },
     "output_type": "display_data"
    }
   ],
   "source": [
    "# run the logistic regression classifier across all the data to generate predicted results\n",
    "logreg = multiclass.OneVsRestClassifier(linear_model.LogisticRegression(solver='lbfgs', max_iter=10000))\n",
    "logreg.fit(X, y)\n",
    "y_pred = logreg.predict(X)\n",
    "\n",
    "\n",
    "# generate a confusion matrix of the predicted results\n",
    "ratings = ['Outstanding','Good','Not Good']\n",
    "cm = metrics.confusion_matrix(y_pred, y, labels=ratings)\n",
    "\n",
    "fig, ax = plt.subplots(figsize = (8,8))\n",
    "sns.heatmap(cm, annot=True, fmt='d', cmap='coolwarm', ax=ax, cbar=False)\n",
    "ax.set_xticklabels(ratings)\n",
    "ax.set_yticklabels(ratings)\n",
    "ax.set_xlabel('Predicted Rating')\n",
    "ax.set_ylabel('True Rating')\n",
    "\n",
    "# generate classification metrics for the data\n",
    "print(metrics.classification_report(y, y_pred, digits=3))"
   ]
  },
  {
   "cell_type": "markdown",
   "metadata": {},
   "source": [
    "Running the logistic regression classifier over the whole shows a slightly improved accuracy score to the earlier calculated cross-validated score (65.0% v 62.7%) respectively.  A high amount of the confusion appears to be coming from the misclassification of good schools into the other two categories, which is perhaps understandable as the overwhelming number of schools assessed are classified as good."
   ]
  },
  {
   "cell_type": "markdown",
   "metadata": {},
   "source": [
    "### 5. Feature Engineering - Progress 8 Features"
   ]
  },
  {
   "cell_type": "markdown",
   "metadata": {},
   "source": [
    "The Progress 8 features of the dataset have negative values indicating a less than average improvement for the average student within a school.  This causes issues as certain ML classifiers cannot accept negative values (such as Multinomial Naive Bayes).  A simple solve for this is to shift the axis so all values are positive.<br><br>\n",
    "The axis is to be shifted for all the progress 8 variable by +5 to allow them all to still be comparable and convert all their values to positive."
   ]
  },
  {
   "cell_type": "code",
   "execution_count": 14,
   "metadata": {},
   "outputs": [],
   "source": [
    "df['P8MEA_shifted'] = df['P8MEA'] + 5\n",
    "df['P8CILOW_shifted'] = df['P8CILOW'] + 5\n",
    "df['P8CIUPP_shifted'] = df['P8CIUPP'] + 5"
   ]
  },
  {
   "cell_type": "markdown",
   "metadata": {},
   "source": [
    "### 6. Feature Engineering - GENDER"
   ]
  },
  {
   "cell_type": "markdown",
   "metadata": {},
   "source": [
    "Two potential methods for converting the nominal 'GENDER' variable into a usable ML format:\n",
    "- Use one hot encoding to generate binomial columns for each of the 3 optional features<br><br>\n",
    "- Combine the sparce 'boys' and 'girls' classes into one, before converting the variable into a binomial 'is_single_sex' variable"
   ]
  },
  {
   "cell_type": "markdown",
   "metadata": {},
   "source": [
    "Option taken to combine the sparce classes and convert into one column as the occurrence of single sex schools is so remote compared to mixed sex establishments."
   ]
  },
  {
   "cell_type": "code",
   "execution_count": 15,
   "metadata": {},
   "outputs": [],
   "source": [
    "# create new varaible to identify if a school is single sex\n",
    "df['is_same_sex'] = df['GENDER'].map({'Mixed':0, 'Girls':1, 'Boys':1})"
   ]
  },
  {
   "cell_type": "markdown",
   "metadata": {},
   "source": [
    "### 7. Feature Engineering - RELCHAR"
   ]
  },
  {
   "cell_type": "markdown",
   "metadata": {},
   "source": [
    "As the occurrences of religious affiliated schools are so sparce compared to the occurrences of schools with no religious affiliation we are justified to combine all the different religious schools into one 'is_RELCHAR' variable to simplify the data and render it usable for ML.  Also if all the different religions are included in the data this may add a lot of noise with additional features that do not contain large amounts of data as machine learning algorithms mostly work under the assumption that categorical data is uniformly distributed."
   ]
  },
  {
   "cell_type": "code",
   "execution_count": 16,
   "metadata": {},
   "outputs": [
    {
     "data": {
      "text/plain": [
       "0    2285\n",
       "1     458\n",
       "Name: is_RELCHAR, dtype: int64"
      ]
     },
     "execution_count": 16,
     "metadata": {},
     "output_type": "execute_result"
    }
   ],
   "source": [
    "# create new varaible to identify if a school has a religeous affiliation\n",
    "df['is_RELCHAR'] = np.where(df['RELCHAR'] == 'None', 0, 1)\n",
    "\n",
    "# check value counts of the new varaible\n",
    "df['is_RELCHAR'].value_counts()"
   ]
  },
  {
   "cell_type": "markdown",
   "metadata": {},
   "source": [
    "### 8. Re-run of classifiers"
   ]
  },
  {
   "cell_type": "code",
   "execution_count": 17,
   "metadata": {},
   "outputs": [
    {
     "data": {
      "text/html": [
       "<div>\n",
       "<style scoped>\n",
       "    .dataframe tbody tr th:only-of-type {\n",
       "        vertical-align: middle;\n",
       "    }\n",
       "\n",
       "    .dataframe tbody tr th {\n",
       "        vertical-align: top;\n",
       "    }\n",
       "\n",
       "    .dataframe thead th {\n",
       "        text-align: right;\n",
       "    }\n",
       "</style>\n",
       "<table border=\"1\" class=\"dataframe\">\n",
       "  <thead>\n",
       "    <tr style=\"text-align: right;\">\n",
       "      <th></th>\n",
       "      <th>Classifier</th>\n",
       "      <th>No Feature Engineering</th>\n",
       "      <th>Feature Engineering 1st Pass</th>\n",
       "    </tr>\n",
       "  </thead>\n",
       "  <tbody>\n",
       "    <tr>\n",
       "      <td>0</td>\n",
       "      <td>Baseline</td>\n",
       "      <td>0.592</td>\n",
       "      <td>0.592</td>\n",
       "    </tr>\n",
       "    <tr>\n",
       "      <td>1</td>\n",
       "      <td>Logistic Regression</td>\n",
       "      <td>0.627</td>\n",
       "      <td>0.643</td>\n",
       "    </tr>\n",
       "    <tr>\n",
       "      <td>2</td>\n",
       "      <td>k-NN</td>\n",
       "      <td>0.191</td>\n",
       "      <td>0.191</td>\n",
       "    </tr>\n",
       "    <tr>\n",
       "      <td>3</td>\n",
       "      <td>MultinomialNB</td>\n",
       "      <td>0.417</td>\n",
       "      <td>0.420</td>\n",
       "    </tr>\n",
       "    <tr>\n",
       "      <td>4</td>\n",
       "      <td>GaussianNB</td>\n",
       "      <td>0.573</td>\n",
       "      <td>0.573</td>\n",
       "    </tr>\n",
       "    <tr>\n",
       "      <td>5</td>\n",
       "      <td>BernoulliNB</td>\n",
       "      <td>0.579</td>\n",
       "      <td>0.571</td>\n",
       "    </tr>\n",
       "  </tbody>\n",
       "</table>\n",
       "</div>"
      ],
      "text/plain": [
       "            Classifier  No Feature Engineering  Feature Engineering 1st Pass\n",
       "0             Baseline                   0.592                         0.592\n",
       "1  Logistic Regression                   0.627                         0.643\n",
       "2                 k-NN                   0.191                         0.191\n",
       "3        MultinomialNB                   0.417                         0.420\n",
       "4           GaussianNB                   0.573                         0.573\n",
       "5          BernoulliNB                   0.579                         0.571"
      ]
     },
     "execution_count": 17,
     "metadata": {},
     "output_type": "execute_result"
    }
   ],
   "source": [
    "# label the model run for the table\n",
    "label = 'Feature Engineering 1st Pass'\n",
    "\n",
    "# define new feature columns\n",
    "X = df.drop(['LA', 'GENDER', 'RELCHAR', 'PPERSABS10', 'P8_BANDING', 'OVERALL_DESTPER', 'NOT_SUSTAINEDPER', 'UNKNOWNPER',\n",
    "       'OVERALL_DESTPER_DIS', 'NOT_SUSTAINEDPER_DIS', 'UNKNOWNPER_DIS', 'Rating', 'P8MEA', 'P8CILOW', 'P8CIUPP'], axis=1)\n",
    "y = df['Rating']\n",
    "\n",
    "classifiers = [multiclass.OneVsRestClassifier(linear_model.LogisticRegression(solver='lbfgs', max_iter=10000)), \n",
    "               neighbors.KNeighborsClassifier(),\n",
    "               MultinomialNB(), GaussianNB(), BernoulliNB()]\n",
    "\n",
    "# run series of ML classifiers to assess accuracy\n",
    "acc = [baseline]\n",
    "\n",
    "for clf in classifiers:\n",
    "    scores = cross_val_score(clf, X, y, cv=5, scoring = 'accuracy')\n",
    "    acc.append(round(scores.mean(), 3))\n",
    "    \n",
    "# append new accuracy scores to table for comparison\n",
    "acc_scores[label] = acc\n",
    "acc_scores"
   ]
  },
  {
   "cell_type": "markdown",
   "metadata": {},
   "source": [
    "Largest positive change from the 1st pass of feature engineering is seen in the logistic regression classifier which has improved in accuracy by 1.6%."
   ]
  },
  {
   "cell_type": "markdown",
   "metadata": {},
   "source": [
    "### 9. Feature Engineering - Mixed Columns"
   ]
  },
  {
   "cell_type": "markdown",
   "metadata": {},
   "source": [
    "For the mixed feature columns the decision was taken to replace the suppressed values with the average for the variable.  This decision was taken because often the values are suppressed as the number of pupils referred to is less than 5, such small populations can often provide outliers in data so by replacing with the average any outlier effects should be negated. <br><br>\n",
    "The data interpolation was done as follows:\n",
    " - The 'PPERSABS10', 'OVERALL_DESTPER', 'NOT_SUSTAINEDPER', 'OVERALL_DESTPER_DIS', and 'NOT_SUSTAINEDPER_DIS' variable column suppressed values were replaced with the median average value from the data (median was chosen as the more robust centrality measure due to the heavy skewing of the data in the variables) <br><br>\n",
    " - 'UNKNOWNPER' was re-calculated as the remainder from the 'OVERALL_DESTPER' and 'NOT_SUSTAINEDPER' variables to ensure the populations added up to 100% <br><br>\n",
    " - 'UNKNOWNPER_DIS' was re-calculated as the remainder from the 'OVERALL_DESTPER_DIS' and 'NOT_SUSTAINEDPER_DIS' variables to ensure the populations added up to 100% <br><br>\n",
    " - 'P8_BANDING' was shown to be related to a schools 'P8MEA' score in previous analysis (component 2 - section 7).  To replace suppressed values the mean 'P8MEA' score for each 'P8_BANDING' is calculated for available data, and the suppressed values then replaced by the banding of the closest banding mean 'P8MEA' to their own score <br><br>\n",
    " - All columns are given the suffix 'NO_SUPP' to show that they have been modified"
   ]
  },
  {
   "cell_type": "code",
   "execution_count": 18,
   "metadata": {},
   "outputs": [],
   "source": [
    "# create new badning varaible with no suppressed values\n",
    "df['P8_BANDING_NO_SUPP'] = df['P8_BANDING']\n",
    "\n",
    "# create banding boundaries\n",
    "B1 = (df.groupby('P8_BANDING')['P8MEA'].mean()[0] + df.groupby('P8_BANDING')['P8MEA'].mean()[1]) / 2\n",
    "B2 = (df.groupby('P8_BANDING')['P8MEA'].mean()[1] + df.groupby('P8_BANDING')['P8MEA'].mean()[2]) / 2\n",
    "B3 = (df.groupby('P8_BANDING')['P8MEA'].mean()[2] + df.groupby('P8_BANDING')['P8MEA'].mean()[3]) / 2\n",
    "B4 = (df.groupby('P8_BANDING')['P8MEA'].mean()[3] + df.groupby('P8_BANDING')['P8MEA'].mean()[4]) / 2\n",
    "\n",
    "# set conditions to define banding\n",
    "c1 = (df['P8MEA'] >= B1) & (df['P8_BANDING'] == 'SUPP')\n",
    "c2 = (df['P8MEA'] >= B2) & (df['P8MEA'] < B1) & (df['P8_BANDING'] == 'SUPP')\n",
    "c3 = (df['P8MEA'] >= B3) & (df['P8MEA'] < B2) & (df['P8_BANDING'] == 'SUPP')\n",
    "c4 = (df['P8MEA'] >= B4) & (df['P8MEA'] < B3) & (df['P8_BANDING'] == 'SUPP')\n",
    "c5 = (df['P8MEA'] < B4) & (df['P8_BANDING'] == 'SUPP')\n",
    "\n",
    "# replace 'SUPP' values with calculated banding\n",
    "df.loc[c1,'P8_BANDING_NO_SUPP'] = 1\n",
    "df.loc[c2,'P8_BANDING_NO_SUPP'] = 2\n",
    "df.loc[c3,'P8_BANDING_NO_SUPP'] = 3\n",
    "df.loc[c4,'P8_BANDING_NO_SUPP'] = 4\n",
    "df.loc[c5,'P8_BANDING_NO_SUPP'] = 5\n",
    "\n",
    "# reset new varaible to integer values\n",
    "df['P8_BANDING_NO_SUPP'] = df['P8_BANDING_NO_SUPP'].astype('int')"
   ]
  },
  {
   "cell_type": "code",
   "execution_count": 19,
   "metadata": {},
   "outputs": [],
   "source": [
    "# replaced suppressed values with the median from the variable\n",
    "df['PPERSABS10_NO_SUPP'] = df['PPERSABS10'].replace(['SUPP','NE','LOWCOV', 'SP'], \n",
    "                                                    df['PPERSABS10'].replace(['SUPP','NE','LOWCOV', 'SP'], np.nan).median())\n",
    "\n",
    "df['OVERALL_DESTPER_NO_SUPP'] = df['OVERALL_DESTPER'].replace(['SUPP','NE','LOWCOV', 'SP'], \n",
    "                                                    df['OVERALL_DESTPER'].replace(['SUPP','NE','LOWCOV', 'SP'], np.nan).median())\n",
    "\n",
    "df['NOT_SUSTAINEDPER_NO_SUPP'] = df['NOT_SUSTAINEDPER'].replace(['SUPP','NE','LOWCOV', 'SP'], \n",
    "                                                    df['NOT_SUSTAINEDPER'].replace(['SUPP','NE','LOWCOV', 'SP'], np.nan).median())\n",
    "\n",
    "df['OVERALL_DESTPER_DIS_NO_SUPP'] = df['OVERALL_DESTPER_DIS'].replace(['SUPP','NE','LOWCOV', 'SP'], \n",
    "                                                    df['OVERALL_DESTPER_DIS'].replace(['SUPP','NE','LOWCOV', 'SP'], np.nan).median())\n",
    "\n",
    "df['NOT_SUSTAINEDPER_DIS_NO_SUPP'] = df['NOT_SUSTAINEDPER_DIS'].replace(['SUPP','NE','LOWCOV', 'SP'], \n",
    "                                                    df['NOT_SUSTAINEDPER_DIS'].replace(['SUPP','NE','LOWCOV', 'SP'], np.nan).median())\n",
    "\n",
    "# reset varaibles to float values\n",
    "new_var = ['PPERSABS10_NO_SUPP', 'OVERALL_DESTPER_NO_SUPP', 'NOT_SUSTAINEDPER_NO_SUPP', \n",
    "   'OVERALL_DESTPER_DIS_NO_SUPP', 'NOT_SUSTAINEDPER_DIS_NO_SUPP']\n",
    "\n",
    "df[new_var] = df[new_var].astype('float64')"
   ]
  },
  {
   "cell_type": "code",
   "execution_count": 20,
   "metadata": {},
   "outputs": [],
   "source": [
    "# calculate remaining values for the 'UNKNOWNPER' and 'UNKNOWNPER_DIS' varaibles\n",
    "df['UNKNOWNPER_NO_SUPP'] = 1 - (df['OVERALL_DESTPER_NO_SUPP'] + df['NOT_SUSTAINEDPER_NO_SUPP'])\n",
    "\n",
    "df['UNKNOWNPER_DIS_NO_SUPP'] = 1 - (df['OVERALL_DESTPER_DIS_NO_SUPP'] + df['NOT_SUSTAINEDPER_DIS_NO_SUPP'])\n",
    "\n",
    "# resetting any negative values in the columns to 0 for sanity purposes\n",
    "df[['UNKNOWNPER_NO_SUPP','UNKNOWNPER_DIS_NO_SUPP']] = np.where(df[['UNKNOWNPER_NO_SUPP','UNKNOWNPER_DIS_NO_SUPP']] < 0,\n",
    "                                                              0, df[['UNKNOWNPER_NO_SUPP','UNKNOWNPER_DIS_NO_SUPP']])"
   ]
  },
  {
   "cell_type": "markdown",
   "metadata": {},
   "source": [
    "### 10. Re-run of classifiers"
   ]
  },
  {
   "cell_type": "code",
   "execution_count": 21,
   "metadata": {},
   "outputs": [
    {
     "data": {
      "text/html": [
       "<div>\n",
       "<style scoped>\n",
       "    .dataframe tbody tr th:only-of-type {\n",
       "        vertical-align: middle;\n",
       "    }\n",
       "\n",
       "    .dataframe tbody tr th {\n",
       "        vertical-align: top;\n",
       "    }\n",
       "\n",
       "    .dataframe thead th {\n",
       "        text-align: right;\n",
       "    }\n",
       "</style>\n",
       "<table border=\"1\" class=\"dataframe\">\n",
       "  <thead>\n",
       "    <tr style=\"text-align: right;\">\n",
       "      <th></th>\n",
       "      <th>Classifier</th>\n",
       "      <th>No Feature Engineering</th>\n",
       "      <th>Feature Engineering 1st Pass</th>\n",
       "      <th>Feature Engineering 2nd Pass</th>\n",
       "    </tr>\n",
       "  </thead>\n",
       "  <tbody>\n",
       "    <tr>\n",
       "      <td>0</td>\n",
       "      <td>Baseline</td>\n",
       "      <td>0.592</td>\n",
       "      <td>0.592</td>\n",
       "      <td>0.592</td>\n",
       "    </tr>\n",
       "    <tr>\n",
       "      <td>1</td>\n",
       "      <td>Logistic Regression</td>\n",
       "      <td>0.627</td>\n",
       "      <td>0.643</td>\n",
       "      <td>0.647</td>\n",
       "    </tr>\n",
       "    <tr>\n",
       "      <td>2</td>\n",
       "      <td>k-NN</td>\n",
       "      <td>0.191</td>\n",
       "      <td>0.191</td>\n",
       "      <td>0.191</td>\n",
       "    </tr>\n",
       "    <tr>\n",
       "      <td>3</td>\n",
       "      <td>MultinomialNB</td>\n",
       "      <td>0.417</td>\n",
       "      <td>0.420</td>\n",
       "      <td>0.435</td>\n",
       "    </tr>\n",
       "    <tr>\n",
       "      <td>4</td>\n",
       "      <td>GaussianNB</td>\n",
       "      <td>0.573</td>\n",
       "      <td>0.573</td>\n",
       "      <td>0.595</td>\n",
       "    </tr>\n",
       "    <tr>\n",
       "      <td>5</td>\n",
       "      <td>BernoulliNB</td>\n",
       "      <td>0.579</td>\n",
       "      <td>0.571</td>\n",
       "      <td>0.579</td>\n",
       "    </tr>\n",
       "  </tbody>\n",
       "</table>\n",
       "</div>"
      ],
      "text/plain": [
       "            Classifier  No Feature Engineering  Feature Engineering 1st Pass  \\\n",
       "0             Baseline                   0.592                         0.592   \n",
       "1  Logistic Regression                   0.627                         0.643   \n",
       "2                 k-NN                   0.191                         0.191   \n",
       "3        MultinomialNB                   0.417                         0.420   \n",
       "4           GaussianNB                   0.573                         0.573   \n",
       "5          BernoulliNB                   0.579                         0.571   \n",
       "\n",
       "   Feature Engineering 2nd Pass  \n",
       "0                         0.592  \n",
       "1                         0.647  \n",
       "2                         0.191  \n",
       "3                         0.435  \n",
       "4                         0.595  \n",
       "5                         0.579  "
      ]
     },
     "execution_count": 21,
     "metadata": {},
     "output_type": "execute_result"
    }
   ],
   "source": [
    "# label the model run for the table\n",
    "label = 'Feature Engineering 2nd Pass'\n",
    "\n",
    "# define new feature columns\n",
    "X = df.drop(['LA', 'GENDER', 'RELCHAR', 'PPERSABS10', 'P8_BANDING', 'OVERALL_DESTPER', 'NOT_SUSTAINEDPER', 'UNKNOWNPER',\n",
    "       'OVERALL_DESTPER_DIS', 'NOT_SUSTAINEDPER_DIS', 'UNKNOWNPER_DIS', 'Rating', 'P8MEA', 'P8CILOW', 'P8CIUPP'], axis=1)\n",
    "y = df['Rating']\n",
    "\n",
    "# run series of ML classifiers to assess accuracy\n",
    "acc = [baseline]\n",
    "\n",
    "for clf in classifiers:\n",
    "    scores = cross_val_score(clf, X, y, cv=5, scoring = 'accuracy')\n",
    "    acc.append(round(scores.mean(), 3))\n",
    "    \n",
    "# append new accuracy scores to table for comparison\n",
    "acc_scores[label] = acc\n",
    "acc_scores"
   ]
  },
  {
   "cell_type": "markdown",
   "metadata": {},
   "source": [
    "The 2nd pass of feature engineering has seen the largest positive impact of the Naive Bayes classifiers, with the Multinomial and Gaussian methods increasing in accuracy by 1.5 and 2.2% respectively."
   ]
  },
  {
   "cell_type": "markdown",
   "metadata": {},
   "source": [
    "### 11. Normalising Features"
   ]
  },
  {
   "cell_type": "code",
   "execution_count": 22,
   "metadata": {},
   "outputs": [
    {
     "data": {
      "text/html": [
       "<div>\n",
       "<style scoped>\n",
       "    .dataframe tbody tr th:only-of-type {\n",
       "        vertical-align: middle;\n",
       "    }\n",
       "\n",
       "    .dataframe tbody tr th {\n",
       "        vertical-align: top;\n",
       "    }\n",
       "\n",
       "    .dataframe thead th {\n",
       "        text-align: right;\n",
       "    }\n",
       "</style>\n",
       "<table border=\"1\" class=\"dataframe\">\n",
       "  <thead>\n",
       "    <tr style=\"text-align: right;\">\n",
       "      <th></th>\n",
       "      <th>Classifier</th>\n",
       "      <th>No Feature Engineering</th>\n",
       "      <th>Feature Engineering 1st Pass</th>\n",
       "      <th>Feature Engineering 2nd Pass</th>\n",
       "      <th>Normalised Features</th>\n",
       "    </tr>\n",
       "  </thead>\n",
       "  <tbody>\n",
       "    <tr>\n",
       "      <td>0</td>\n",
       "      <td>Baseline</td>\n",
       "      <td>0.592</td>\n",
       "      <td>0.592</td>\n",
       "      <td>0.592</td>\n",
       "      <td>0.592</td>\n",
       "    </tr>\n",
       "    <tr>\n",
       "      <td>1</td>\n",
       "      <td>Logistic Regression</td>\n",
       "      <td>0.627</td>\n",
       "      <td>0.643</td>\n",
       "      <td>0.647</td>\n",
       "      <td>0.665</td>\n",
       "    </tr>\n",
       "    <tr>\n",
       "      <td>2</td>\n",
       "      <td>k-NN</td>\n",
       "      <td>0.191</td>\n",
       "      <td>0.191</td>\n",
       "      <td>0.191</td>\n",
       "      <td>0.628</td>\n",
       "    </tr>\n",
       "    <tr>\n",
       "      <td>3</td>\n",
       "      <td>MultinomialNB</td>\n",
       "      <td>0.417</td>\n",
       "      <td>0.420</td>\n",
       "      <td>0.435</td>\n",
       "      <td>0.604</td>\n",
       "    </tr>\n",
       "    <tr>\n",
       "      <td>4</td>\n",
       "      <td>GaussianNB</td>\n",
       "      <td>0.573</td>\n",
       "      <td>0.573</td>\n",
       "      <td>0.595</td>\n",
       "      <td>0.581</td>\n",
       "    </tr>\n",
       "    <tr>\n",
       "      <td>5</td>\n",
       "      <td>BernoulliNB</td>\n",
       "      <td>0.579</td>\n",
       "      <td>0.571</td>\n",
       "      <td>0.579</td>\n",
       "      <td>0.600</td>\n",
       "    </tr>\n",
       "  </tbody>\n",
       "</table>\n",
       "</div>"
      ],
      "text/plain": [
       "            Classifier  No Feature Engineering  Feature Engineering 1st Pass  \\\n",
       "0             Baseline                   0.592                         0.592   \n",
       "1  Logistic Regression                   0.627                         0.643   \n",
       "2                 k-NN                   0.191                         0.191   \n",
       "3        MultinomialNB                   0.417                         0.420   \n",
       "4           GaussianNB                   0.573                         0.573   \n",
       "5          BernoulliNB                   0.579                         0.571   \n",
       "\n",
       "   Feature Engineering 2nd Pass  Normalised Features  \n",
       "0                         0.592                0.592  \n",
       "1                         0.647                0.665  \n",
       "2                         0.191                0.628  \n",
       "3                         0.435                0.604  \n",
       "4                         0.595                0.581  \n",
       "5                         0.579                0.600  "
      ]
     },
     "execution_count": 22,
     "metadata": {},
     "output_type": "execute_result"
    }
   ],
   "source": [
    "# label the model run for the table\n",
    "label = 'Normalised Features'\n",
    "\n",
    "# define new feature columns\n",
    "X = df.drop(['LA', 'GENDER', 'RELCHAR', 'PPERSABS10', 'P8_BANDING', 'OVERALL_DESTPER', 'NOT_SUSTAINEDPER', 'UNKNOWNPER',\n",
    "       'OVERALL_DESTPER_DIS', 'NOT_SUSTAINEDPER_DIS', 'UNKNOWNPER_DIS', 'Rating', 'P8MEA', 'P8CILOW', 'P8CIUPP'], axis=1)\n",
    "# import normalisation and apply to features\n",
    "from sklearn import preprocessing\n",
    "min_max_scaler = preprocessing.MinMaxScaler()\n",
    "X = min_max_scaler.fit_transform(X)\n",
    "y = df['Rating']\n",
    "\n",
    "# run series of ML classifiers to assess accuracy\n",
    "acc = [baseline]\n",
    "\n",
    "for clf in classifiers:\n",
    "    scores = cross_val_score(clf, X, y, cv=5, scoring = 'accuracy')\n",
    "    acc.append(round(scores.mean(), 3))\n",
    "    \n",
    "# append new accuracy scores to table for comparison\n",
    "acc_scores[label] = acc\n",
    "acc_scores"
   ]
  },
  {
   "cell_type": "markdown",
   "metadata": {},
   "source": [
    "Normalisation of the features has greatly improved the accuracy of the k-NN classifier, jumping from 19.1 to 62.8%, indicating that the differences in scaling of some of the features was having a large impact on its performance. <br><br>\n",
    "We have also seen a large increase in the accuracy of the MultinomialNB classifier (by 16.9%) and more modest but significant increases in the accuracy of the logistic regression and BernouilliNB classifiers (1.8 and 2.1% respectively).<br><br>\n",
    "Interestingly the performance of the GaussianNB classifier decreased with normalisation of the features."
   ]
  },
  {
   "cell_type": "markdown",
   "metadata": {},
   "source": [
    "### 12. Further Feature Engineering"
   ]
  },
  {
   "cell_type": "markdown",
   "metadata": {},
   "source": [
    "Further future engineering techniques tried as follows:\n",
    "1.\tConverting heavily skewed data to a more uniform distribution\n",
    "    -\tThis is done as we have a few features in the dataset which are heavily skewed and it will dampen the influence of outliers in the data\n",
    "<br><br>\n",
    "2.\tGenerating polynomial features in the data\n",
    "    -\tThis is done to assess whether there are any feature interactions which are useful for the classifier as these would not be captured if using the features individually"
   ]
  },
  {
   "cell_type": "code",
   "execution_count": 23,
   "metadata": {},
   "outputs": [],
   "source": [
    "# 1. Converting data to more uniform distributions\n",
    "\n",
    "# select heavily skewed data to convert\n",
    "columns = ['PSENELK', 'PFSM', 'PNUMFSMEVER', 'PTEBACC_94', 'PTEBACC_95', 'PPERSABS10_NO_SUPP']\n",
    "\n",
    "# convert 'PTEBACC' varaible to 100% to avoid issues\n",
    "df['PTEBACC_94'] = df['PTEBACC_94'] * 100\n",
    "df['PTEBACC_95'] = df['PTEBACC_95'] * 100\n",
    "\n",
    "# calculate sqrt of the columns to create a more even distribution\n",
    "# sqrt selected over log to avoid zero value error issues\n",
    "for col in columns:\n",
    "    name = 'sqrt_' + col\n",
    "    df[name] = np.sqrt(df[col])"
   ]
  },
  {
   "cell_type": "code",
   "execution_count": 24,
   "metadata": {},
   "outputs": [
    {
     "data": {
      "text/html": [
       "<div>\n",
       "<style scoped>\n",
       "    .dataframe tbody tr th:only-of-type {\n",
       "        vertical-align: middle;\n",
       "    }\n",
       "\n",
       "    .dataframe tbody tr th {\n",
       "        vertical-align: top;\n",
       "    }\n",
       "\n",
       "    .dataframe thead th {\n",
       "        text-align: right;\n",
       "    }\n",
       "</style>\n",
       "<table border=\"1\" class=\"dataframe\">\n",
       "  <thead>\n",
       "    <tr style=\"text-align: right;\">\n",
       "      <th></th>\n",
       "      <th>Classifier</th>\n",
       "      <th>No Feature Engineering</th>\n",
       "      <th>Feature Engineering 1st Pass</th>\n",
       "      <th>Feature Engineering 2nd Pass</th>\n",
       "      <th>Normalised Features</th>\n",
       "      <th>Uniform Features</th>\n",
       "    </tr>\n",
       "  </thead>\n",
       "  <tbody>\n",
       "    <tr>\n",
       "      <td>0</td>\n",
       "      <td>Baseline</td>\n",
       "      <td>0.592</td>\n",
       "      <td>0.592</td>\n",
       "      <td>0.592</td>\n",
       "      <td>0.592</td>\n",
       "      <td>0.592</td>\n",
       "    </tr>\n",
       "    <tr>\n",
       "      <td>1</td>\n",
       "      <td>Logistic Regression</td>\n",
       "      <td>0.627</td>\n",
       "      <td>0.643</td>\n",
       "      <td>0.647</td>\n",
       "      <td>0.665</td>\n",
       "      <td>0.667</td>\n",
       "    </tr>\n",
       "    <tr>\n",
       "      <td>2</td>\n",
       "      <td>k-NN</td>\n",
       "      <td>0.191</td>\n",
       "      <td>0.191</td>\n",
       "      <td>0.191</td>\n",
       "      <td>0.628</td>\n",
       "      <td>0.629</td>\n",
       "    </tr>\n",
       "    <tr>\n",
       "      <td>3</td>\n",
       "      <td>MultinomialNB</td>\n",
       "      <td>0.417</td>\n",
       "      <td>0.420</td>\n",
       "      <td>0.435</td>\n",
       "      <td>0.604</td>\n",
       "      <td>0.606</td>\n",
       "    </tr>\n",
       "    <tr>\n",
       "      <td>4</td>\n",
       "      <td>GaussianNB</td>\n",
       "      <td>0.573</td>\n",
       "      <td>0.573</td>\n",
       "      <td>0.595</td>\n",
       "      <td>0.581</td>\n",
       "      <td>0.580</td>\n",
       "    </tr>\n",
       "    <tr>\n",
       "      <td>5</td>\n",
       "      <td>BernoulliNB</td>\n",
       "      <td>0.579</td>\n",
       "      <td>0.571</td>\n",
       "      <td>0.579</td>\n",
       "      <td>0.600</td>\n",
       "      <td>0.600</td>\n",
       "    </tr>\n",
       "  </tbody>\n",
       "</table>\n",
       "</div>"
      ],
      "text/plain": [
       "            Classifier  No Feature Engineering  Feature Engineering 1st Pass  \\\n",
       "0             Baseline                   0.592                         0.592   \n",
       "1  Logistic Regression                   0.627                         0.643   \n",
       "2                 k-NN                   0.191                         0.191   \n",
       "3        MultinomialNB                   0.417                         0.420   \n",
       "4           GaussianNB                   0.573                         0.573   \n",
       "5          BernoulliNB                   0.579                         0.571   \n",
       "\n",
       "   Feature Engineering 2nd Pass  Normalised Features  Uniform Features  \n",
       "0                         0.592                0.592             0.592  \n",
       "1                         0.647                0.665             0.667  \n",
       "2                         0.191                0.628             0.629  \n",
       "3                         0.435                0.604             0.606  \n",
       "4                         0.595                0.581             0.580  \n",
       "5                         0.579                0.600             0.600  "
      ]
     },
     "execution_count": 24,
     "metadata": {},
     "output_type": "execute_result"
    }
   ],
   "source": [
    "# label the model run for the table\n",
    "label = 'Uniform Features'\n",
    "\n",
    "# define new feature columns\n",
    "X = df.drop(['LA', 'GENDER', 'RELCHAR', 'PPERSABS10', 'P8_BANDING', 'OVERALL_DESTPER', 'NOT_SUSTAINEDPER', 'UNKNOWNPER',\n",
    "       'OVERALL_DESTPER_DIS', 'NOT_SUSTAINEDPER_DIS', 'UNKNOWNPER_DIS', 'Rating', 'P8MEA', 'P8CILOW', 'P8CIUPP',\n",
    "            'PSENELK', 'PFSM', 'PNUMFSMEVER', 'PTEBACC_94', 'PTEBACC_95', 'PPERSABS10_NO_SUPP'], axis=1)\n",
    "X = min_max_scaler.fit_transform(X)\n",
    "y = df['Rating']\n",
    "\n",
    "# run series of ML classifiers to assess accuracy\n",
    "acc = [baseline]\n",
    "\n",
    "for clf in classifiers:\n",
    "    scores = cross_val_score(clf, X, y, cv=5, scoring = 'accuracy')\n",
    "    acc.append(round(scores.mean(), 3))\n",
    "    \n",
    "# append new accuracy scores to table for comparison\n",
    "acc_scores[label] = acc\n",
    "acc_scores"
   ]
  },
  {
   "cell_type": "markdown",
   "metadata": {},
   "source": [
    "Modifying the features to be more uniform appears to have minimal impact on the accuracy of the classifiers."
   ]
  },
  {
   "cell_type": "code",
   "execution_count": 25,
   "metadata": {},
   "outputs": [
    {
     "data": {
      "text/html": [
       "<div>\n",
       "<style scoped>\n",
       "    .dataframe tbody tr th:only-of-type {\n",
       "        vertical-align: middle;\n",
       "    }\n",
       "\n",
       "    .dataframe tbody tr th {\n",
       "        vertical-align: top;\n",
       "    }\n",
       "\n",
       "    .dataframe thead th {\n",
       "        text-align: right;\n",
       "    }\n",
       "</style>\n",
       "<table border=\"1\" class=\"dataframe\">\n",
       "  <thead>\n",
       "    <tr style=\"text-align: right;\">\n",
       "      <th></th>\n",
       "      <th>Classifier</th>\n",
       "      <th>No Feature Engineering</th>\n",
       "      <th>Feature Engineering 1st Pass</th>\n",
       "      <th>Feature Engineering 2nd Pass</th>\n",
       "      <th>Normalised Features</th>\n",
       "      <th>Uniform Features</th>\n",
       "      <th>2nd Order Poly Features</th>\n",
       "    </tr>\n",
       "  </thead>\n",
       "  <tbody>\n",
       "    <tr>\n",
       "      <td>0</td>\n",
       "      <td>Baseline</td>\n",
       "      <td>0.592</td>\n",
       "      <td>0.592</td>\n",
       "      <td>0.592</td>\n",
       "      <td>0.592</td>\n",
       "      <td>0.592</td>\n",
       "      <td>0.592</td>\n",
       "    </tr>\n",
       "    <tr>\n",
       "      <td>1</td>\n",
       "      <td>Logistic Regression</td>\n",
       "      <td>0.627</td>\n",
       "      <td>0.643</td>\n",
       "      <td>0.647</td>\n",
       "      <td>0.665</td>\n",
       "      <td>0.667</td>\n",
       "      <td>0.670</td>\n",
       "    </tr>\n",
       "    <tr>\n",
       "      <td>2</td>\n",
       "      <td>k-NN</td>\n",
       "      <td>0.191</td>\n",
       "      <td>0.191</td>\n",
       "      <td>0.191</td>\n",
       "      <td>0.628</td>\n",
       "      <td>0.629</td>\n",
       "      <td>0.639</td>\n",
       "    </tr>\n",
       "    <tr>\n",
       "      <td>3</td>\n",
       "      <td>MultinomialNB</td>\n",
       "      <td>0.417</td>\n",
       "      <td>0.420</td>\n",
       "      <td>0.435</td>\n",
       "      <td>0.604</td>\n",
       "      <td>0.606</td>\n",
       "      <td>0.555</td>\n",
       "    </tr>\n",
       "    <tr>\n",
       "      <td>4</td>\n",
       "      <td>GaussianNB</td>\n",
       "      <td>0.573</td>\n",
       "      <td>0.573</td>\n",
       "      <td>0.595</td>\n",
       "      <td>0.581</td>\n",
       "      <td>0.580</td>\n",
       "      <td>0.509</td>\n",
       "    </tr>\n",
       "    <tr>\n",
       "      <td>5</td>\n",
       "      <td>BernoulliNB</td>\n",
       "      <td>0.579</td>\n",
       "      <td>0.571</td>\n",
       "      <td>0.579</td>\n",
       "      <td>0.600</td>\n",
       "      <td>0.600</td>\n",
       "      <td>0.303</td>\n",
       "    </tr>\n",
       "  </tbody>\n",
       "</table>\n",
       "</div>"
      ],
      "text/plain": [
       "            Classifier  No Feature Engineering  Feature Engineering 1st Pass  \\\n",
       "0             Baseline                   0.592                         0.592   \n",
       "1  Logistic Regression                   0.627                         0.643   \n",
       "2                 k-NN                   0.191                         0.191   \n",
       "3        MultinomialNB                   0.417                         0.420   \n",
       "4           GaussianNB                   0.573                         0.573   \n",
       "5          BernoulliNB                   0.579                         0.571   \n",
       "\n",
       "   Feature Engineering 2nd Pass  Normalised Features  Uniform Features  \\\n",
       "0                         0.592                0.592             0.592   \n",
       "1                         0.647                0.665             0.667   \n",
       "2                         0.191                0.628             0.629   \n",
       "3                         0.435                0.604             0.606   \n",
       "4                         0.595                0.581             0.580   \n",
       "5                         0.579                0.600             0.600   \n",
       "\n",
       "   2nd Order Poly Features  \n",
       "0                    0.592  \n",
       "1                    0.670  \n",
       "2                    0.639  \n",
       "3                    0.555  \n",
       "4                    0.509  \n",
       "5                    0.303  "
      ]
     },
     "execution_count": 25,
     "metadata": {},
     "output_type": "execute_result"
    }
   ],
   "source": [
    "# 2. Creating polynomial features\n",
    "# 2nd order polynomial chosen as higher orders would take too long to process\n",
    "poly = preprocessing.PolynomialFeatures(degree = 2, interaction_only = False)\n",
    "\n",
    "# label the model run for the table\n",
    "label = '2nd Order Poly Features'\n",
    "\n",
    "# define new feature columns\n",
    "X = df.drop(['LA', 'GENDER', 'RELCHAR', 'PPERSABS10', 'P8_BANDING', 'OVERALL_DESTPER', 'NOT_SUSTAINEDPER', 'UNKNOWNPER',\n",
    "       'OVERALL_DESTPER_DIS', 'NOT_SUSTAINEDPER_DIS', 'UNKNOWNPER_DIS', 'Rating', 'P8MEA', 'P8CILOW', 'P8CIUPP',\n",
    "            'PSENELK', 'PFSM', 'PNUMFSMEVER', 'PTEBACC_94', 'PTEBACC_95', 'PPERSABS10_NO_SUPP'], axis=1)\n",
    "X = poly.fit_transform(X)\n",
    "X = min_max_scaler.fit_transform(X)\n",
    "y = df['Rating']\n",
    "\n",
    "# run series of ML classifiers to assess accuracy\n",
    "acc = [baseline]\n",
    "\n",
    "for clf in classifiers:\n",
    "    scores = cross_val_score(clf, X, y, cv=5, scoring = 'accuracy')\n",
    "    acc.append(round(scores.mean(), 3))\n",
    "    \n",
    "# append new accuracy scores to table for comparison\n",
    "acc_scores[label] = acc\n",
    "acc_scores\n"
   ]
  },
  {
   "cell_type": "markdown",
   "metadata": {},
   "source": [
    "Creating polynomial features in the dataset has provided the largest positive change for the k-NN classifier, which has seen an increase in accuracy of 1%. <br><br>\n",
    "The change has seen a large negative impact on all of the Naive Bayes classifiers, with the largest change seen in the Bernoulli method which has decreased in accuracy by 29.7%."
   ]
  },
  {
   "cell_type": "markdown",
   "metadata": {},
   "source": [
    "### 13. Feature Selection Methods"
   ]
  },
  {
   "cell_type": "markdown",
   "metadata": {},
   "source": [
    "Feature selection is done to reduce noise from a dataset for machine learning purposes and is typically done using two main method types, filtering or wrapping. <br>\n",
    "\n",
    "Filter methods involve selection of the most influential features based on a property of the features themselves (such as variance in the feature or correlation to a target variable).  To implement the method the features are ranked based on the property of choice and the top x features selected based on assessment from the user.  The advantage of filter methods is speed as they are typically very easy to implement and do not take much processing power to run, allowing them to be efficiently applied to high dimensional datasets.  The disadvantage is that they do not relate directly to the end product of the classifier (e.g. accuracy or root-mean-squared-error), meaning that there is a possibility that the characteristic being filtered for does not actually improve the error from the machine learning model. <br>\n",
    "\n",
    "Wrapper methods on the other hand directly use the results of the machine learning model applied to reduce the number of chosen features from a dataset.  To implement the method a loop function is set up which runs the model with all the available features individually and chooses the one that reduces the error by the largest factor, before repeating this loop by cycling through all the remaining features in combination with the first and selecting the one which reduces the model error by the most.  This loop cycle is then repeated until the chosen number of features defined by the operator is selected.  The advantage of this technique is its intrinsic reduction in the error of the machine learning model which is absent from the filter method.  The disadvantage however is that the technique is inherently slow and requires a lot of processing power, meaning it is very time and resource costly to implement for high dimensional datasets.\n"
   ]
  },
  {
   "cell_type": "markdown",
   "metadata": {},
   "source": [
    "### 14. Filter Method"
   ]
  },
  {
   "cell_type": "markdown",
   "metadata": {},
   "source": [
    "3 potential filter method techniques for us to use on the dataset are as follows:\n",
    "\n",
    "1. Filtering features based on variance\n",
    "    - variance indicates the spread of the data in a feature, the higher the variance the more the data is spread out allowing a model a wider range of values to utilise when predicting the target class\n",
    "    - for our dataset we can rank the features by their variance and select the number of features which shows the highest accuracy score <br><br>\n",
    "2. Filtering based on correlation to the target class\n",
    "    - correlation indicates the strength of a statistical relationship between two variables, the more a feature is correlated to the target the more useful it will be to predict that target class\n",
    "    - for our data set we can use the F-test statistic (as the features are mostly continuous and the target is categorical) to rank the features for their correlation to the target class and select the number of features which shows the highest accuracy score<br><br>\n",
    "3. Removing mutual information\n",
    "    - some features in a dataset are directly calculated from others or can be predicted directly from them, when this is the case having both features adds no new information to the data and simply increases noise for the ML algorithm and they can be removed\n",
    "    - for our dataset we can remove complementary data features (such as the 'PNORG' and 'PNORB' which always sum to 1)   \n",
    "    \n",
    "For our data we will use method 2, ranking the features based on their correlation to the target class.  Note that the 2nd order polynomial transform has been removed from the data to do this as leaving it in caused several error messages on the algorithm.\n"
   ]
  },
  {
   "cell_type": "code",
   "execution_count": 26,
   "metadata": {},
   "outputs": [
    {
     "data": {
      "text/html": [
       "<div>\n",
       "<style scoped>\n",
       "    .dataframe tbody tr th:only-of-type {\n",
       "        vertical-align: middle;\n",
       "    }\n",
       "\n",
       "    .dataframe tbody tr th {\n",
       "        vertical-align: top;\n",
       "    }\n",
       "\n",
       "    .dataframe thead th {\n",
       "        text-align: right;\n",
       "    }\n",
       "</style>\n",
       "<table border=\"1\" class=\"dataframe\">\n",
       "  <thead>\n",
       "    <tr style=\"text-align: right;\">\n",
       "      <th></th>\n",
       "      <th>Classifier</th>\n",
       "      <th>No Feature Engineering</th>\n",
       "      <th>Feature Engineering 1st Pass</th>\n",
       "      <th>Feature Engineering 2nd Pass</th>\n",
       "      <th>Normalised Features</th>\n",
       "      <th>Uniform Features</th>\n",
       "      <th>2nd Order Poly Features</th>\n",
       "      <th>Filter Method</th>\n",
       "    </tr>\n",
       "  </thead>\n",
       "  <tbody>\n",
       "    <tr>\n",
       "      <td>0</td>\n",
       "      <td>Baseline</td>\n",
       "      <td>0.592</td>\n",
       "      <td>0.592</td>\n",
       "      <td>0.592</td>\n",
       "      <td>0.592</td>\n",
       "      <td>0.592</td>\n",
       "      <td>0.592</td>\n",
       "      <td>0.592</td>\n",
       "    </tr>\n",
       "    <tr>\n",
       "      <td>1</td>\n",
       "      <td>Logistic Regression</td>\n",
       "      <td>0.627</td>\n",
       "      <td>0.643</td>\n",
       "      <td>0.647</td>\n",
       "      <td>0.665</td>\n",
       "      <td>0.667</td>\n",
       "      <td>0.670</td>\n",
       "      <td>0.669</td>\n",
       "    </tr>\n",
       "    <tr>\n",
       "      <td>2</td>\n",
       "      <td>k-NN</td>\n",
       "      <td>0.191</td>\n",
       "      <td>0.191</td>\n",
       "      <td>0.191</td>\n",
       "      <td>0.628</td>\n",
       "      <td>0.629</td>\n",
       "      <td>0.639</td>\n",
       "      <td>0.639</td>\n",
       "    </tr>\n",
       "    <tr>\n",
       "      <td>3</td>\n",
       "      <td>MultinomialNB</td>\n",
       "      <td>0.417</td>\n",
       "      <td>0.420</td>\n",
       "      <td>0.435</td>\n",
       "      <td>0.604</td>\n",
       "      <td>0.606</td>\n",
       "      <td>0.555</td>\n",
       "      <td>0.607</td>\n",
       "    </tr>\n",
       "    <tr>\n",
       "      <td>4</td>\n",
       "      <td>GaussianNB</td>\n",
       "      <td>0.573</td>\n",
       "      <td>0.573</td>\n",
       "      <td>0.595</td>\n",
       "      <td>0.581</td>\n",
       "      <td>0.580</td>\n",
       "      <td>0.509</td>\n",
       "      <td>0.626</td>\n",
       "    </tr>\n",
       "    <tr>\n",
       "      <td>5</td>\n",
       "      <td>BernoulliNB</td>\n",
       "      <td>0.579</td>\n",
       "      <td>0.571</td>\n",
       "      <td>0.579</td>\n",
       "      <td>0.600</td>\n",
       "      <td>0.600</td>\n",
       "      <td>0.303</td>\n",
       "      <td>0.629</td>\n",
       "    </tr>\n",
       "  </tbody>\n",
       "</table>\n",
       "</div>"
      ],
      "text/plain": [
       "            Classifier  No Feature Engineering  Feature Engineering 1st Pass  \\\n",
       "0             Baseline                   0.592                         0.592   \n",
       "1  Logistic Regression                   0.627                         0.643   \n",
       "2                 k-NN                   0.191                         0.191   \n",
       "3        MultinomialNB                   0.417                         0.420   \n",
       "4           GaussianNB                   0.573                         0.573   \n",
       "5          BernoulliNB                   0.579                         0.571   \n",
       "\n",
       "   Feature Engineering 2nd Pass  Normalised Features  Uniform Features  \\\n",
       "0                         0.592                0.592             0.592   \n",
       "1                         0.647                0.665             0.667   \n",
       "2                         0.191                0.628             0.629   \n",
       "3                         0.435                0.604             0.606   \n",
       "4                         0.595                0.581             0.580   \n",
       "5                         0.579                0.600             0.600   \n",
       "\n",
       "   2nd Order Poly Features  Filter Method  \n",
       "0                    0.592          0.592  \n",
       "1                    0.670          0.669  \n",
       "2                    0.639          0.639  \n",
       "3                    0.555          0.607  \n",
       "4                    0.509          0.626  \n",
       "5                    0.303          0.629  "
      ]
     },
     "execution_count": 26,
     "metadata": {},
     "output_type": "execute_result"
    }
   ],
   "source": [
    "# label the model run for the table\n",
    "label = 'Filter Method'\n",
    "\n",
    "# ANOVA feature selection for numeric input and categorical output\n",
    "from sklearn.feature_selection import SelectKBest\n",
    "from sklearn.feature_selection import f_classif\n",
    "\n",
    "X = df.drop(['LA', 'GENDER', 'RELCHAR', 'PPERSABS10', 'P8_BANDING', 'OVERALL_DESTPER', 'NOT_SUSTAINEDPER', 'UNKNOWNPER',\n",
    "       'OVERALL_DESTPER_DIS', 'NOT_SUSTAINEDPER_DIS', 'UNKNOWNPER_DIS', 'Rating', 'P8MEA', 'P8CILOW', 'P8CIUPP',\n",
    "            'PSENELK', 'PFSM', 'PNUMFSMEVER', 'PTEBACC_94', 'PTEBACC_95', 'PPERSABS10_NO_SUPP'], axis=1)\n",
    "X = min_max_scaler.fit_transform(X)\n",
    "y = df['Rating']\n",
    "\n",
    "acc = [baseline]\n",
    "\n",
    "for clf in classifiers:\n",
    "    # run filter loop to look through all possible numbers of features to use\n",
    "    clf_acc = []\n",
    "    for x in range(1, 28):\n",
    "        # define feature selection\n",
    "        fs = SelectKBest(score_func=f_classif, k=x)\n",
    "        # apply feature selection\n",
    "        X_selected = fs.fit_transform(X, y)\n",
    "        # calculate the cross validated accuracy\n",
    "        scores = cross_val_score(clf, X_selected, y, cv=5, scoring = 'accuracy')\n",
    "        clf_acc.append(round(scores.mean(),3))\n",
    "        clf_acc_max = max(clf_acc)\n",
    "    acc.append(clf_acc_max)\n",
    "\n",
    "# update table\n",
    "acc_scores[label] = acc\n",
    "acc_scores"
   ]
  },
  {
   "cell_type": "markdown",
   "metadata": {},
   "source": [
    "Application of the filter method has seen the largest gains for the GaussianNB and BernoulliNB classifiers, with increases in accuracy of 4.6 and 2.9% respectively. <br><br>\n",
    "The k-NN classifier also showed a small increase in accuracy from this feature selection technique showing a gain in accuracy of 1% similar to that seen from generating 2nd order polynomial features in the dataset."
   ]
  },
  {
   "cell_type": "markdown",
   "metadata": {},
   "source": [
    "### 15. Wrapper Method"
   ]
  },
  {
   "cell_type": "markdown",
   "metadata": {},
   "source": [
    "The k-NN means classifier was chosen for the wrapper method as this had shown the most improvement during the feature selection so far.  Again the polynomial feature transformation has been dropped as it produced error warnings with the method."
   ]
  },
  {
   "cell_type": "code",
   "execution_count": 27,
   "metadata": {},
   "outputs": [
    {
     "data": {
      "text/html": [
       "<div>\n",
       "<style scoped>\n",
       "    .dataframe tbody tr th:only-of-type {\n",
       "        vertical-align: middle;\n",
       "    }\n",
       "\n",
       "    .dataframe tbody tr th {\n",
       "        vertical-align: top;\n",
       "    }\n",
       "\n",
       "    .dataframe thead th {\n",
       "        text-align: right;\n",
       "    }\n",
       "</style>\n",
       "<table border=\"1\" class=\"dataframe\">\n",
       "  <thead>\n",
       "    <tr style=\"text-align: right;\">\n",
       "      <th></th>\n",
       "      <th>Classifier</th>\n",
       "      <th>No Feature Engineering</th>\n",
       "      <th>Feature Engineering 1st Pass</th>\n",
       "      <th>Feature Engineering 2nd Pass</th>\n",
       "      <th>Normalised Features</th>\n",
       "      <th>Uniform Features</th>\n",
       "      <th>2nd Order Poly Features</th>\n",
       "      <th>Filter Method</th>\n",
       "      <th>Wrapper Method</th>\n",
       "    </tr>\n",
       "  </thead>\n",
       "  <tbody>\n",
       "    <tr>\n",
       "      <td>0</td>\n",
       "      <td>Baseline</td>\n",
       "      <td>0.592</td>\n",
       "      <td>0.592</td>\n",
       "      <td>0.592</td>\n",
       "      <td>0.592</td>\n",
       "      <td>0.592</td>\n",
       "      <td>0.592</td>\n",
       "      <td>0.592</td>\n",
       "      <td>0.592</td>\n",
       "    </tr>\n",
       "    <tr>\n",
       "      <td>1</td>\n",
       "      <td>Logistic Regression</td>\n",
       "      <td>0.627</td>\n",
       "      <td>0.643</td>\n",
       "      <td>0.647</td>\n",
       "      <td>0.665</td>\n",
       "      <td>0.667</td>\n",
       "      <td>0.670</td>\n",
       "      <td>0.669</td>\n",
       "      <td>NaN</td>\n",
       "    </tr>\n",
       "    <tr>\n",
       "      <td>2</td>\n",
       "      <td>k-NN</td>\n",
       "      <td>0.191</td>\n",
       "      <td>0.191</td>\n",
       "      <td>0.191</td>\n",
       "      <td>0.628</td>\n",
       "      <td>0.629</td>\n",
       "      <td>0.639</td>\n",
       "      <td>0.639</td>\n",
       "      <td>0.658</td>\n",
       "    </tr>\n",
       "    <tr>\n",
       "      <td>3</td>\n",
       "      <td>MultinomialNB</td>\n",
       "      <td>0.417</td>\n",
       "      <td>0.420</td>\n",
       "      <td>0.435</td>\n",
       "      <td>0.604</td>\n",
       "      <td>0.606</td>\n",
       "      <td>0.555</td>\n",
       "      <td>0.607</td>\n",
       "      <td>NaN</td>\n",
       "    </tr>\n",
       "    <tr>\n",
       "      <td>4</td>\n",
       "      <td>GaussianNB</td>\n",
       "      <td>0.573</td>\n",
       "      <td>0.573</td>\n",
       "      <td>0.595</td>\n",
       "      <td>0.581</td>\n",
       "      <td>0.580</td>\n",
       "      <td>0.509</td>\n",
       "      <td>0.626</td>\n",
       "      <td>NaN</td>\n",
       "    </tr>\n",
       "    <tr>\n",
       "      <td>5</td>\n",
       "      <td>BernoulliNB</td>\n",
       "      <td>0.579</td>\n",
       "      <td>0.571</td>\n",
       "      <td>0.579</td>\n",
       "      <td>0.600</td>\n",
       "      <td>0.600</td>\n",
       "      <td>0.303</td>\n",
       "      <td>0.629</td>\n",
       "      <td>NaN</td>\n",
       "    </tr>\n",
       "  </tbody>\n",
       "</table>\n",
       "</div>"
      ],
      "text/plain": [
       "            Classifier  No Feature Engineering  Feature Engineering 1st Pass  \\\n",
       "0             Baseline                   0.592                         0.592   \n",
       "1  Logistic Regression                   0.627                         0.643   \n",
       "2                 k-NN                   0.191                         0.191   \n",
       "3        MultinomialNB                   0.417                         0.420   \n",
       "4           GaussianNB                   0.573                         0.573   \n",
       "5          BernoulliNB                   0.579                         0.571   \n",
       "\n",
       "   Feature Engineering 2nd Pass  Normalised Features  Uniform Features  \\\n",
       "0                         0.592                0.592             0.592   \n",
       "1                         0.647                0.665             0.667   \n",
       "2                         0.191                0.628             0.629   \n",
       "3                         0.435                0.604             0.606   \n",
       "4                         0.595                0.581             0.580   \n",
       "5                         0.579                0.600             0.600   \n",
       "\n",
       "   2nd Order Poly Features  Filter Method  Wrapper Method  \n",
       "0                    0.592          0.592           0.592  \n",
       "1                    0.670          0.669             NaN  \n",
       "2                    0.639          0.639           0.658  \n",
       "3                    0.555          0.607             NaN  \n",
       "4                    0.509          0.626             NaN  \n",
       "5                    0.303          0.629             NaN  "
      ]
     },
     "execution_count": 27,
     "metadata": {},
     "output_type": "execute_result"
    }
   ],
   "source": [
    "# label the model run for the table\n",
    "label = 'Wrapper Method'\n",
    "\n",
    "# wrapper method used to define the most influencial features from the dataset\n",
    "# run in a loop to see the effects of adding more features into the classifier\n",
    "from mlxtend.feature_selection import SequentialFeatureSelector as SFS\n",
    "sfs = SFS(neighbors.KNeighborsClassifier(), k_features=(1, 28), forward=True, floating=False, scoring = 'accuracy', cv = 5)\n",
    "sfs.fit(X, y)\n",
    "\n",
    "# ammend table with wrapper method results\n",
    "acc = [np.nan] * 6\n",
    "acc_scores[label] = acc\n",
    "acc_scores.loc[acc_scores['Classifier'] == 'Baseline', 'Wrapper Method'] = baseline\n",
    "acc_scores.loc[acc_scores['Classifier'] == 'k-NN', 'Wrapper Method'] = round(pd.DataFrame(sfs.get_metric_dict()).loc['avg_score', :].max(),3)\n",
    "acc_scores"
   ]
  },
  {
   "cell_type": "markdown",
   "metadata": {},
   "source": [
    "The wrapper feature selection method has provided an improvement of 2.9% in accuracy for the k-NN classifier."
   ]
  }
 ],
 "metadata": {
  "kernelspec": {
   "display_name": "Python 3",
   "language": "python",
   "name": "python3"
  },
  "language_info": {
   "codemirror_mode": {
    "name": "ipython",
    "version": 3
   },
   "file_extension": ".py",
   "mimetype": "text/x-python",
   "name": "python",
   "nbconvert_exporter": "python",
   "pygments_lexer": "ipython3",
   "version": "3.7.4"
  }
 },
 "nbformat": 4,
 "nbformat_minor": 2
}
