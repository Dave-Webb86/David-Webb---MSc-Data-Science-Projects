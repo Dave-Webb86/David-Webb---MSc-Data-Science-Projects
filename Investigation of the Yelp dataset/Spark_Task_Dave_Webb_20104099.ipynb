{
  "nbformat": 4,
  "nbformat_minor": 0,
  "metadata": {
    "colab": {
      "name": "Spark Coursework-Dave Webb-20104099.ipynb",
      "provenance": [],
      "collapsed_sections": [
        "91K7Y9AJ2KH5",
        "AArfdHZq3RbD",
        "XU4TVPMwDyGO",
        "a98JXV5J2ZA1"
      ],
      "toc_visible": true
    },
    "kernelspec": {
      "name": "python3",
      "display_name": "Python 3"
    }
  },
  "cells": [
    {
      "cell_type": "markdown",
      "metadata": {
        "id": "CVOHR3rFrv4M"
      },
      "source": [
        "# <center> **Spark Task-Dave Webb-20104099**"
      ]
    },
    {
      "cell_type": "markdown",
      "metadata": {
        "id": "91K7Y9AJ2KH5"
      },
      "source": [
        "# **Initialisation of spark**"
      ]
    },
    {
      "cell_type": "code",
      "metadata": {
        "id": "Mq9rd-il12a_"
      },
      "source": [
        "!apt-get install openjdk-11-jre-headless -qq > /dev/null\r\n",
        "!wget -q https://downloads.apache.org/spark/spark-3.0.2/spark-3.0.2-bin-hadoop3.2.tgz\r\n",
        "!tar zxf spark-3.0.2-bin-hadoop3.2.tgz\r\n",
        "!pip3 install -q findspark"
      ],
      "execution_count": 3,
      "outputs": []
    },
    {
      "cell_type": "code",
      "metadata": {
        "id": "dD2SfT8n19QR"
      },
      "source": [
        "import os\r\n",
        "os.environ[\"JAVA_HOME\"] = \"/usr/lib/jvm/java-11-openjdk-amd64\"\r\n",
        "os.environ[\"SPARK_HOME\"] = \"/content/spark-3.0.2-bin-hadoop3.2\""
      ],
      "execution_count": 4,
      "outputs": []
    },
    {
      "cell_type": "code",
      "metadata": {
        "id": "J65ykfFt1_Ug"
      },
      "source": [
        "import findspark\r\n",
        "findspark.init()"
      ],
      "execution_count": 5,
      "outputs": []
    },
    {
      "cell_type": "code",
      "metadata": {
        "id": "KJz0FcqP2Bfo"
      },
      "source": [
        "from pyspark import SparkConf, SparkContext\r\n",
        "spark_conf = SparkConf().setMaster('local').setAppName('MyApp')\r\n",
        "sc = SparkContext(conf=spark_conf)"
      ],
      "execution_count": 6,
      "outputs": []
    },
    {
      "cell_type": "markdown",
      "metadata": {
        "id": "AArfdHZq3RbD"
      },
      "source": [
        "# **Import of Libraries**"
      ]
    },
    {
      "cell_type": "code",
      "metadata": {
        "colab": {
          "base_uri": "https://localhost:8080/"
        },
        "id": "YDa5B1803V-M",
        "outputId": "404be272-d2e3-4ab8-9985-2f30ac4c5bcb"
      },
      "source": [
        "import json\r\n",
        "import matplotlib.pyplot as plt\r\n",
        "import numpy as np\r\n",
        "print('libraries imported')"
      ],
      "execution_count": 7,
      "outputs": [
        {
          "output_type": "stream",
          "text": [
            "libraries imported\n"
          ],
          "name": "stdout"
        }
      ]
    },
    {
      "cell_type": "markdown",
      "metadata": {
        "id": "XU4TVPMwDyGO"
      },
      "source": [
        "# **Define Useful Functions**"
      ]
    },
    {
      "cell_type": "markdown",
      "metadata": {
        "id": "KusPqvE6ESWR"
      },
      "source": [
        "Useful functions defined by Luciano in class to help tidy up code when searching RDDs."
      ]
    },
    {
      "cell_type": "code",
      "metadata": {
        "id": "U45mSx9OD7uu"
      },
      "source": [
        "json2dict = lambda x: json.loads(x)"
      ],
      "execution_count": 8,
      "outputs": []
    },
    {
      "cell_type": "code",
      "metadata": {
        "id": "MfhKcNMrD7la"
      },
      "source": [
        "def slice_dict(my_dict, keys): \r\n",
        "    \"\"\"`my_dict` is a dictionary, and `keys` is assumed to be a list of\r\n",
        "    keys that belong to `my_dict`; the sub-dictionary associated with\r\n",
        "    `keys` is returned\"\"\"\r\n",
        "    return { k: v for k, v in my_dict.items() if k in keys }"
      ],
      "execution_count": 9,
      "outputs": []
    },
    {
      "cell_type": "code",
      "metadata": {
        "id": "LNcbiMvuD7UH"
      },
      "source": [
        "def merge_dict(d1, d2):\r\n",
        "    return { **d1, **d2 }"
      ],
      "execution_count": 10,
      "outputs": []
    },
    {
      "cell_type": "markdown",
      "metadata": {
        "id": "AfMWV-vfO123"
      },
      "source": [
        "# **Introduction**"
      ]
    },
    {
      "cell_type": "markdown",
      "metadata": {
        "id": "d4SNnShfPBUG"
      },
      "source": [
        "Venue rate and review websites such as yelp.com have been both a blessing and a curse for businesses.  Research has shown that a one star increase in overall rating for a restaurant can lead to a 5-9 % rise in revenue, with the impact of such websites particularly pronounced for independent businesses. (Luca, 2011)  Other research however has shown that it is an industry very open to fraud and nefarious tactics, with evidence of businesses posting fake positive reviews to support themselves and fake negative reviews to hurt their rivals. (Luca and Zervas, 2016)  In such a hard landscape it can prove difficult for businesses to accurately assess their online ratings and place priority on which reviews should be used to guide changes to build/sustain customer reputation, meaning exploration and interpretation of the data collated at yelp can provide a valuable resource.\r\n",
        "\r\n",
        "\r\n",
        "This report details the exploration of the yelp academic dataset made publicly available on the yelp website (https://www.yelp.com/dataset).  Actual data for the report was supplied by the course tutor obtained from this website for consistency amongst the class, and in accordance with the license agreement all personally stored data is to be deleted once the report is submitted.  The dataset itself contains 6 individual JSON files containing business, check in, photo, review and tip data respectively from yelp.com.  Each of the JSON files contains relevant data to the content of the file with each instance designated its own primary key.  Each JSON file also contains foreign keys to allow interaction between the datasets, these are typically centred on business, and user IDs.\r\n",
        "\r\n",
        "\r\n",
        "This report shall be broken down into two main sections.  The initial section details some direct queries on the dataset set by the course tutor to assess the structure and processability of the data.  Each of the queries is set out as a question with an accompanying section detailing how the query will be approached.  Where appropriate a brief assessment of the data is also provided as a conclusion.  Section two details a more open exploratory question on the data and as such contains a more detailed introduction justifying the choice of the exploration and a comprehensive analysis and conclusion of the findings for the reader.\r\n",
        "\r\n",
        "\r\n",
        "<font size='1'>\r\n",
        "Luca, M., 2011. Reviews, Reputation, and Revenue: The Case of Yelp.Com. SSRN Electron. J. https://doi.org/10.2139/ssrn.1928601\r\n",
        "<br>\r\n",
        "<font size='1'>\r\n",
        "Luca, M., Zervas, G., 2016. Fake It Till You Make It: Reputation, Competition, and Yelp Review Fraud. Manag. Sci. 62, 36.\r\n"
      ]
    },
    {
      "cell_type": "markdown",
      "metadata": {
        "id": "a98JXV5J2ZA1"
      },
      "source": [
        "# **Import of Data Sets**"
      ]
    },
    {
      "cell_type": "code",
      "metadata": {
        "colab": {
          "base_uri": "https://localhost:8080/"
        },
        "id": "NHz68Pe893Hk",
        "outputId": "f5b78491-7375-4912-b618-df3c2d70ed01"
      },
      "source": [
        "from google.colab import drive\r\n",
        "drive.mount('/content/drive')"
      ],
      "execution_count": 11,
      "outputs": [
        {
          "output_type": "stream",
          "text": [
            "Mounted at /content/drive\n"
          ],
          "name": "stdout"
        }
      ]
    },
    {
      "cell_type": "code",
      "metadata": {
        "id": "KfJPCHOB2-X_"
      },
      "source": [
        "bus_rdd = (sc.textFile('/content/drive/My Drive/yelp/business.json')\r\n",
        "  .map(json2dict))"
      ],
      "execution_count": 12,
      "outputs": []
    },
    {
      "cell_type": "code",
      "metadata": {
        "id": "dOeOfiQF3doU"
      },
      "source": [
        "rev_rdd = (sc.textFile('/content/drive/My Drive/yelp/review.json')\r\n",
        "  .map(json2dict))"
      ],
      "execution_count": 13,
      "outputs": []
    },
    {
      "cell_type": "code",
      "metadata": {
        "id": "v-SGd0DZEgxa"
      },
      "source": [
        "user_rdd = (sc.textFile('/content/drive/My Drive/yelp/user.json')\r\n",
        "  .map(json2dict))"
      ],
      "execution_count": 14,
      "outputs": []
    },
    {
      "cell_type": "markdown",
      "metadata": {
        "id": "r3WLih6O3pHh"
      },
      "source": [
        "# **Section One: Data Query Examples**"
      ]
    },
    {
      "cell_type": "markdown",
      "metadata": {
        "id": "x0xWK-eA3vmT"
      },
      "source": [
        "## 1. Which reviews have been rated as useful by more than 30 users and funny by more than 20 users? Obtain total number and show a couple of example instances (i.e., use first or take)."
      ]
    },
    {
      "cell_type": "markdown",
      "metadata": {
        "id": "84WmqBCSSx8I"
      },
      "source": [
        "Problem approached as follows:\r\n",
        " - review list rdd filtered to instances with >20 funny ratings\r\n",
        " - resulting list rdd filtered to instances with >30 useful ratings (actually done in the same filter as the above step with an 'and' condition)\r\n",
        " - count the number of instances in the resulting filtered list rdd\r\n",
        " - report the first two instances in the filtered list rdd using the 'take()' action"
      ]
    },
    {
      "cell_type": "code",
      "metadata": {
        "colab": {
          "base_uri": "https://localhost:8080/"
        },
        "id": "jPEgNvBv3m0B",
        "outputId": "c82b70c2-8386-44fb-b2b1-49a16d46c6dc"
      },
      "source": [
        "useful_count = 30\r\n",
        "funny_count = 20\r\n",
        "\r\n",
        "count = (rev_rdd.filter(lambda x: x['funny'] > funny_count # filter list to instances with >20 funny ratings\r\n",
        "                        and x['useful'] > useful_count) # filter list to instances with >30 useful ratings\r\n",
        "                        .count()) # count the number of instances in the filtered list\r\n",
        "\r\n",
        "# print the count and the first two examples\r\n",
        "print('The number of reviews is', count, 'that meet the description.')\r\n",
        "print('')\r\n",
        "print('The first 2 example review entries are:')\r\n",
        "print('')\r\n",
        "rev_rdd.filter(lambda x: x['funny'] > funny_count and x['useful'] > useful_count).take(2)"
      ],
      "execution_count": 15,
      "outputs": [
        {
          "output_type": "stream",
          "text": [
            "The number of reviews is 4011 that meet the description.\n",
            "\n",
            "The first 2 example review entries are:\n",
            "\n"
          ],
          "name": "stdout"
        },
        {
          "output_type": "execute_result",
          "data": {
            "text/plain": [
              "[{'business_id': 'upgjUq616Yz1IvAvysDLWA',\n",
              "  'cool': 40,\n",
              "  'date': '2017-09-08',\n",
              "  'funny': 25,\n",
              "  'review_id': 'und_IbRFr2Rwpizt-kfZuw',\n",
              "  'stars': 5,\n",
              "  'text': 'Great food!\\n\\nThis restaurant isn\\'t located on the Strip... this place isn\\'t Hash House A Go Go, Momofuku, Wicked Spoon nor is it Eggslut (although I\\'ve bookmarked those places for future visits) but because of that it doesn\\'t have the food prices you pay when dining at the Strip. Get it? For a little over $20 we were able to fill our tummies with delicious food.\\n\\nI had Ely\\'s Burger. Beef, cheese, grilled onions, mushrooms, lettuce, tomato and mayo... hold the pickles and red onion, please. The meal came with crinkle-cut fries. I love the mushrooms in this burger. Tasty and delicious!  Hubby had the Bacon (or Sausage) Skillet. He scarfed it down... no need to ask him if he enjoyed his meal. \\n\\nThis place has a casual dining atmosphere, nothing fancy. They serve classic American food, breakfast, lunch, and dinner. Great, affordable prices. Our table was well taken care of. Very attentive servers but not overly. They were friendly and nice. Hubby loves wearing his GS Warriors shirts and it always gets attention from sports fans when we go places. Had engaged in a convo with the server who also processed our bill (Lakers fan). Then, I\\'m not sure if it was the owner that said to me as we were leaving... \"review us in Yelp\" (now how did he know I Yelp??). Worth coming back to when we\\'re in town again :)\\n\\nReview #0835',\n",
              "  'useful': 47,\n",
              "  'user_id': 'Hm0diOkWwpo9zotlJlqMUQ'},\n",
              " {'business_id': 'I6ICIIZfZsp_J9hHmfhWhQ',\n",
              "  'cool': 43,\n",
              "  'date': '2017-09-09',\n",
              "  'funny': 25,\n",
              "  'review_id': 'yD_zR37iwd_zqonHEhnjTg',\n",
              "  'stars': 4,\n",
              "  'text': \"Parking fees in casinos on the Strip\\n\\nLove coming to Vegas. We used to frequent visiting Sin City, sometimes three times a year, but lately have slowed down and this year, 2017, was our first time back in Vegas since Feb 2016! wow! has it been that long... no wonder I was longing for it in this last mini getaway! Anyway, found out that many of the casinos have done away with the free parking! The good old days of plentiful free parking at casinos ended in 2016. Bummer! Wait, I take that back... I think some casinos offer 0-60 mins free parking. It's true that parking garages here are so abundant but unless you're staying at or patronizing the resort you have to fork out $ for parking fees. Now it's all about parking in one spot, pay the fees, and walk, walk, walk... I suppose one can take the monorails too. \\n\\nWhile I'm done ranting about the newly imposed parking fees (new to me, at least) I do enjoy walking around the Strip. I'm not talking about from one end to another. I enjoyed it best during Pacquiao's fights held at the MGM (held usually in May). Hubby and I come to Vegas to celebrate our birthdays around that time. Loved the hype it brought. I also enjoyed the outdoor shows... Treasure Island, The Mirage and Bellagio. \\n\\nAnd damn those Las Vegas card flickers. If you've ever been to Vegas, you know what I'm talking about. Although, I didn't see any this time while walking around Treasure Island and crossing over to Wynn. Are they gone now?\\n\\nIf flying in Vegas one can see the Strip with all the lights as your plane is about to land. I always look for either the Stratosphere (The tallest observation tower in the U.S.) or the light beam from the Luxor on the southern end (the Luxor Sky Beam is the strongest beam of light in the world). I look for these landmarks when our plane is about to descend at McCarran Int'l Airport. Lots of car traffic as well as foot traffic on the Strip. Lots of lights. Lots of tourists. Lots of shops, restaurants, bars and lounges. This place comes alive on weekends.  What happens in Vegas stays in... Facebook, IG, and Snapchat (nowadays). Be mindful :)\\n\\nReview #0838\",\n",
              "  'useful': 49,\n",
              "  'user_id': 'Hm0diOkWwpo9zotlJlqMUQ'}]"
            ]
          },
          "metadata": {
            "tags": []
          },
          "execution_count": 15
        }
      ]
    },
    {
      "cell_type": "markdown",
      "metadata": {
        "id": "AFZ9h7Yx6BuR"
      },
      "source": [
        "## 2. Which businesses based in Las Vegas that are identified as Nightlife have been rated 4.5 stars or higher?"
      ]
    },
    {
      "cell_type": "markdown",
      "metadata": {
        "id": "QskIvecUZV6w"
      },
      "source": [
        "Problem approached as follows:\r\n",
        " - business list rdd filtered to instances where the designated city is 'Las Vegas'\r\n",
        " - resulting list rdd filtered to instances where the designation 'Nightlife' is contained within the '*categories*' section\r\n",
        " - resulting list rdd filtered to instances where the business star rating is => 4.5\r\n",
        " - count the number of instances in the resulting filtered list rdd\r\n",
        " - map to '*business_id*' and '*name*' and report the first ten instances in the filtered list rdd using the 'take()' action (too many businesses to report all in a readable list)"
      ]
    },
    {
      "cell_type": "code",
      "metadata": {
        "colab": {
          "base_uri": "https://localhost:8080/"
        },
        "id": "yrgwTuXC34mj",
        "outputId": "e0f2f735-1d01-40bf-c687-c03059523a29"
      },
      "source": [
        "cat = 'Nightlife'\r\n",
        "city = 'Las Vegas'\r\n",
        "rating = 4.5\r\n",
        "\r\n",
        "# filters run on seperate lines for clairity, can also use and seperator within a filter if required\r\n",
        "\r\n",
        "count = (bus_rdd.filter(lambda x: x['city'] == city) # filter to businesses in 'Las Vegas'\r\n",
        "  .filter(lambda x: cat in x['categories']) # filter to businesses categorised as 'Nightlife'\r\n",
        "  .filter(lambda x: x['stars'] >= rating) # filter to businesses with => 4.5 star rating\r\n",
        "  .count())\r\n",
        "\r\n",
        "print('The number of businesses is', count, 'that meet the description.')\r\n",
        "print('')\r\n",
        "print('The first 10 example business entries are:')\r\n",
        "print('')\r\n",
        "(bus_rdd.filter(lambda x: x['city'] == city)\r\n",
        "  .filter(lambda x: cat in x['categories'])\r\n",
        "  .filter(lambda x: x['stars'] >= rating)\r\n",
        "  .map(lambda x: slice_dict(x, ['name', 'business_id'])) # mapped to business_id and name for simplicity when viewing results\r\n",
        "  .take(10))"
      ],
      "execution_count": 23,
      "outputs": [
        {
          "output_type": "stream",
          "text": [
            "The number of businesses is 382 that meet the description.\n",
            "\n",
            "The first 10 example business entries are:\n",
            "\n"
          ],
          "name": "stdout"
        },
        {
          "output_type": "execute_result",
          "data": {
            "text/plain": [
              "[{'business_id': 'WfB_SsYeKy83QQsqAAyGVQ', 'name': 'Cancun Bar & Grill'},\n",
              " {'business_id': 'OWbm2cGjhX3CwmqzUJeLoQ', 'name': 'Strip Gun Club'},\n",
              " {'business_id': '0Yeb_P24sj6MwG2qmuehkA', 'name': \"Till's Bar\"},\n",
              " {'business_id': 'aRV-V3RXVk9c5YPSNyNjzA', 'name': 'Kahunaville O2 Bar'},\n",
              " {'business_id': 'Y3mYtN9A_BPiz3DHX8868A', 'name': 'Speed Zone Tavern'},\n",
              " {'business_id': 'etiXHEc6OYEyUTU3orIz6g', 'name': 'EMC Las Vegas'},\n",
              " {'business_id': 'iFCz-xI7CV98fcaB4Chh3g', 'name': 'The Black Sheep'},\n",
              " {'business_id': 'GGvjkKM74UnOh2NyvwTLZQ', 'name': 'Jjanga Fusion Pocha'},\n",
              " {'business_id': 'RpZMz6m-BvUjWOjgN_5_Tw', 'name': 'Wayfarer Bar'},\n",
              " {'business_id': '7hpcxyY0azlVtwAlg9N-wA', 'name': 'retroscena'}]"
            ]
          },
          "metadata": {
            "tags": []
          },
          "execution_count": 23
        }
      ]
    },
    {
      "cell_type": "markdown",
      "metadata": {
        "id": "MeBOcc0Ewyb6"
      },
      "source": [
        "While a simple list of the business which are classified nightlife and rated 4.5 star is not particularly informative in itself it can lead to greater insights on those businesses with further data exploration.  An analysis of the other category features in the list could lead to further insight into the business types on the list, for example in the brief list presented above we can see several business names with 'bar' in the title, indicating that these venue types may be a significant portion of the selected data.  Additionally there may be scope to look into some of the reviews on the venues via nlp methods to see if any trends can be identified in customer feedback on the venues.  Analyses such as this would be particularly useful to anyone looking to establish a business in Las Vegas, providing them with insight on which businesses tend to be the most popular with customers in the area."
      ]
    },
    {
      "cell_type": "markdown",
      "metadata": {
        "id": "mA-OLTen94jH"
      },
      "source": [
        "## 3. What are the top-10 reviewers, in terms of the absolute number of reviews marked as useful by other users, of Nightlife businesses in Urbana-Champaign?"
      ]
    },
    {
      "cell_type": "markdown",
      "metadata": {
        "id": "-4kPHBxCyHLg"
      },
      "source": [
        "Problem approached as follows:\r\n",
        " - business list rdd is filtered to businesses in Urbana and Champaign only with the business ID defined as the rdd key and the business ID reserved\r\n",
        " - review list is filtered to reviews that have at least one useful hit, with the business ID defined as the rdd key and the user ID reserved\r\n",
        " - the two lists are inner joined on the business ID key\r\n",
        " - the user ID is extracted and instances of recurring IDs counted (indicating the absolute number of useful reviews posted in Urbana-Champaign)\r\n",
        " - the counted user IDs are ranked and the top 10 presented (along with count number)\r\n",
        "\r\n",
        "**NB: User ID chosen to identify the top 10 reviewers as user name may not be unique**"
      ]
    },
    {
      "cell_type": "code",
      "metadata": {
        "colab": {
          "base_uri": "https://localhost:8080/"
        },
        "id": "rw5TSfWTSRsa",
        "outputId": "57546a23-db25-4095-998c-437d44cc8ed7"
      },
      "source": [
        "cat = 'Nightlife'\r\n",
        "city = ['Champaign', 'Urbana']\r\n",
        "\r\n",
        "print(\"The top 10 user IDs that fit the criteria (with corresponding review counts) are:\")\r\n",
        "print(\"\")\r\n",
        "\r\n",
        "(\r\n",
        "  (\r\n",
        "      bus_rdd\r\n",
        "  .filter(lambda x: cat in x['categories']) # filter to 'Nightlife' businesses\r\n",
        "  .filter(lambda x: city[0] in x['city'] or city[1] in x['city']) # filter to businesses in Urbana-Champaign\r\n",
        "  .map(lambda x: slice_dict(x, ['business_id'])) # pull out business id and city\r\n",
        "  .keyBy(lambda x: x['business_id']) # set business id as the key\r\n",
        "  ).join( # filtered business and review rdd lists joined (inner) on the 'business_id' key\r\n",
        "      rev_rdd\r\n",
        "  .filter(lambda x: x['useful'] > 0) # filter to useful reviews\r\n",
        "  .keyBy(lambda x: x['business_id']) # set business id as the key\r\n",
        "  .mapValues(lambda x: slice_dict(x, ['user_id'])) # pull out business and user ids\r\n",
        "  ).map(lambda x: (x[1][1]['user_id'], 1)) # extract the user ids from the joined list, add a count marker in the tuple\r\n",
        "  .reduceByKey(lambda x,y: x+y) # collect the data by user id and count the occurences\r\n",
        "  .sortBy(lambda x: x[1], ascending=False) # sort the user ids by the number of occurences in descending order\r\n",
        "  .take(10) # take the top 10 occuring user ids\r\n",
        ")"
      ],
      "execution_count": 17,
      "outputs": [
        {
          "output_type": "stream",
          "text": [
            "The top 10 user IDs that fit the criteria (with corresponding review counts) are:\n",
            "\n"
          ],
          "name": "stdout"
        },
        {
          "output_type": "execute_result",
          "data": {
            "text/plain": [
              "[('qmjoMFMZdLH69_6eGTGDZw', 22),\n",
              " ('nqMG01GBhD381FKn0hixow', 20),\n",
              " ('VVimjPD7f8O5D1fhy5vSpw', 20),\n",
              " ('Rg3C1gCJsyshSpp-35HLbQ', 19),\n",
              " ('GxkY7BqazkQu6I9HBDpbqQ', 19),\n",
              " ('pJyV8I6JsKG_iSzPLvb5AA', 19),\n",
              " ('xN-xoLhTHUFfTS_BMGG0xg', 17),\n",
              " ('pFRE2mNCQvx9DUU542c6Dw', 16),\n",
              " ('z_9oeZ5aN8g8AzPNENht8w', 15),\n",
              " ('IxiVty8zfZC093jiaFaG3A', 13)]"
            ]
          },
          "metadata": {
            "tags": []
          },
          "execution_count": 17
        }
      ]
    },
    {
      "cell_type": "markdown",
      "metadata": {
        "id": "pmZO0Jv70D31"
      },
      "source": [
        "This list essentially details the most influential reviewers in the Urbana-Champaign area, as other users considered a higher number of their reviews useful than others in the cities.  This could prove a valuable resourse to businesses in the Urbana-Champaign are who are looking to expand or grow their reputation by providing them with a list of influential people in the area to reach out to and provide a marketing platform.  Directed marketing in such a manner may also provide a cheaper more pricise option than a general marketing campaign in the area."
      ]
    },
    {
      "cell_type": "markdown",
      "metadata": {
        "id": "hlKL8EGCz51n"
      },
      "source": [
        "# **Section 2: Exploratory Data Science Question**"
      ]
    },
    {
      "cell_type": "markdown",
      "metadata": {
        "id": "_FwuNRIX57pT"
      },
      "source": [
        "## Introduction"
      ]
    },
    {
      "cell_type": "markdown",
      "metadata": {
        "id": "PEjqSu4lX3am"
      },
      "source": [
        "\r\n",
        "\r\n",
        "For businesses to make a reasonable assessment of their reviews yelp has some additional granularity to its review system for businesses and consumers to take advantage of.  Two of these features are of particular importance:\r\n",
        "\r\n",
        "1.\tThe ‘elite’ status system (https://www.yelp-support.com/article/What-is-Yelps-Elite-Squad?l=en_GB), where reviewers are given special status depending on the depth of their reviews, profile completion and community interaction, assuring another user that the reviewer is genuine and most likely not computer generated.\r\n",
        "2.\tThe ‘useful’ rating where other yelp users can tag a review as useful when they have assessed which businesses to patronise.\r\n",
        "\r\n",
        "These features allow a business to gauge which reviews are the most influential on customers allowing them to take action.  The issue however is that once a status has been deemed useful by other users it may be too late for a business to react, so what can businesses do to get ahead of the curve?  \r\n",
        "\r\n",
        "\r\n",
        "\r\n",
        "\r\n",
        "\r\n",
        "\r\n",
        "\r\n",
        "\r\n",
        "\r\n",
        "\r\n",
        "\r\n",
        "\r\n"
      ]
    },
    {
      "cell_type": "markdown",
      "metadata": {
        "id": "WJOJjE2_YbEo"
      },
      "source": [
        "## Aim"
      ]
    },
    {
      "cell_type": "markdown",
      "metadata": {
        "id": "KbDpKylJa7PF"
      },
      "source": [
        "This aim of this study is to assess the landscape of yelp reviews to see which type of reviews other users find useful, or more specifically **Which star ratings do Yelp users find the most useful, from elite and non-elite reviewers?**  Where a useful review is one which has received at least tag of useful form another yelp user, and an elite reviewer is a user which has achieved elite status at least once in their history on yelp.\r\n",
        "\r\n",
        "Two major stakeholders are identified as the targets of this report:\r\n",
        "\r\n",
        "\r\n",
        "1.   Business owners who will have a resource indicating which reviews are most likely to be considered useful by potential customers, defined by the elite status of the reviewer and the subsequent rating of the review\r\n",
        "2.   Yelp users looking for businesses to patronize who can assess whether ratings are genuine or just part of the general landsape of yelp reviews\r\n",
        "\r\n",
        "\r\n"
      ]
    },
    {
      "cell_type": "markdown",
      "metadata": {
        "id": "nogReePkfKlX"
      },
      "source": [
        "## Data Exploration and Analysis"
      ]
    },
    {
      "cell_type": "markdown",
      "metadata": {
        "id": "PS2Rej72fdnm"
      },
      "source": [
        "For the data exploration section of the report the data in the yelp rdds will be reduced to just one city, in this case Toronto.  This is done for a couple of reasons, namely to reduce the dataset to a manageable size and reduce data processing times, and to negate any regional variation we may see in the data from different cities and countries.  Whilst out of the scope of this report for the sake of brevity further investigation into any regional variation of user behaviour may also provide a useful and interesting study.\r\n",
        "\r\n",
        "To explore the question first the data must be reduced to an rdd containing only the relevant information combined from the appropriate different master rdds.  This is done in the code cell below as follows:\t \r\n",
        " - Map the **user rdd** to ‘*user_id*’ and ‘*elite*’ status history data only and set the rdd key to ‘*user_id*’\r\n",
        " - Set the key of the **review rdd** to ‘*user_id*’ and map to ‘*business_id*’, ‘*stars*’ rating and ‘*useful*’ tag count data only\r\n",
        " - Inner join the mapped **user** and **review rdd**s on the ‘*user_id*’ keys\r\n",
        " - Merge the data in the joined rdd into one dictionary for simplicity and then reset the key to ‘*business_id*’\r\n",
        " - Filter the **business rdd** to the businesses in the Toronto area\r\n",
        " - Map the filtered **business rdd** to just the ‘*business_id*’ data and also set the key to the ‘*business_id*’\r\n",
        " - Inner join the mapped **user/review combined** and filtered **business rdd**s on the ‘*business_id*’ keys\r\n",
        " - Map the final **combined rdd** to contain the ‘*stars*’ rating, ‘*useful*’ tag count and ‘*elite*' status history\r\n",
        " - This will leave an rdd with rating, usefulness of reviews and the elite status history of the reviewer for businesses in Toronto only (saved as Toronto_revs)\r\n"
      ]
    },
    {
      "cell_type": "code",
      "metadata": {
        "id": "gNNxR3FUmE_b"
      },
      "source": [
        "# create list of reviews from users only of Toronto businesses\r\n",
        "\r\n",
        "Toronto_revs_rdd = (\r\n",
        "  (\r\n",
        "      user_rdd # select user rdd\r\n",
        "  .map(lambda x: slice_dict(x, ['user_id','elite'])) # map to 'user_id' data\r\n",
        "  .keyBy(lambda x: x['user_id'])\r\n",
        "  ).join( # join (inner) filtered user and review rdds on the 'user_id' key\r\n",
        "      rev_rdd # select review rdd\r\n",
        "  .keyBy(lambda x: x['user_id']) # key by 'user_id'\r\n",
        "  .mapValues(lambda x: slice_dict(x, ['business_id', 'stars', 'useful'])) # map to 'business_id', 'stars' and 'useful' counts data\r\n",
        "  ).map(lambda x: merge_dict(x[1][0], x[1][1])) # merge joined dictionaries into one for simplicity\r\n",
        "  .keyBy(lambda x: x['business_id']) # change data key to 'business_id'\r\n",
        "  .mapValues(lambda x: slice_dict(x, ['stars', 'useful', 'elite'])) # map to 'stars', 'useful' count and 'elite' status history data for use\r\n",
        "  .join( # join (inner) the filtered business rdd and the previous combined rdd on the 'business_id' key\r\n",
        "        bus_rdd # select business rdd\r\n",
        " .filter(lambda x: x['city'] == 'Toronto') # filter to 'Toronto' businesses\r\n",
        " .map(lambda x: slice_dict(x, 'business_id')) # map to 'business_id' data\r\n",
        " .keyBy(lambda x: x['business_id']) # key by 'business_id'      \r\n",
        "  ).map(lambda x: x[1][0]) # map to 'stars', 'useful' count and 'elite' status data required for question\r\n",
        ")"
      ],
      "execution_count": 18,
      "outputs": []
    },
    {
      "cell_type": "markdown",
      "metadata": {
        "id": "FT39aBNCxfTX"
      },
      "source": [
        "With a combined rdd of relevant data in place it can now be analysed.  Initial exploration of the data looks at the difference in review ratings between elite and non-elite users to see if there is any difference in behaviour.  This is done via the creation of a bar plot comparing the percentage of reviews given in the Toronto area at each of the potential star ratings for both user groups.  The visualisation is prepared in the code cell below as follows:\r\n",
        "-\tFilter **Toronto_revs** rdd to the users with no history of elite status (done by selecting those with an '*elite*' status list length == 0)\r\n",
        "-\tCount the number of reviews from non-elite users and store the number as a variable\r\n",
        "-\tMap the non-elite user review list to the ‘*star*’ ratings and then reduceByKey to generate a list of the potential ‘*star*’ ratings and the number of occurrences\r\n",
        "-\tMap an additional calculated column onto the rdd dividing the number of occurrences by the earlier stored count value to generate a percentage figure\r\n",
        "-\tRepeat these steps for the elite user group (filtered as those with an ‘*elite*’ status list length > 0)\r\n",
        "-\tProduce a bar plot of the two percentage distributions for comparison\r\n"
      ]
    },
    {
      "cell_type": "code",
      "metadata": {
        "colab": {
          "base_uri": "https://localhost:8080/",
          "height": 509
        },
        "id": "16_4RzS61veg",
        "outputId": "d3795463-b36b-42d9-adf5-f373204cb42f"
      },
      "source": [
        "# visualisation of elite/non-elite star rating preferences\r\n",
        "\r\n",
        "# sort and calculate non-elite figures\r\n",
        "\r\n",
        "non_elite_user_count = Toronto_revs_rdd.filter(lambda x: len(x['elite']) == 0).count() # filter to and count the 'non-elite' user reviews\r\n",
        "\r\n",
        "non_elite_user_ratings = (\r\n",
        "    Toronto_revs_rdd\r\n",
        "  .filter(lambda x: len(x['elite']) == 0) # filter to 'non-elite' user reviews\r\n",
        " .map(lambda x: [x['stars'], 1]) # map to 'star' rating values and add a numeric field to allow reduce functions\r\n",
        " .reduceByKey(lambda x,y: x+y) # reduce the rdd by the 'star' values and count the occurances of each possibility\r\n",
        " .map(lambda x: (x[0], x[1], (x[1]/non_elite_user_count)*100)) # map to the 'star' rating, count and a calculated % of the total count value\r\n",
        ")\r\n",
        "\r\n",
        "# sort and calculate elite figures\r\n",
        "\r\n",
        "elite_user_count = Toronto_revs_rdd.filter(lambda x: len(x['elite']) > 0).count() # filter to and count the 'elite' user reviews\r\n",
        "\r\n",
        "elite_user_ratings = (\r\n",
        "    Toronto_revs_rdd\r\n",
        " .filter(lambda x: len(x['elite']) > 0) # filter to 'elite' user reviews\r\n",
        " .map(lambda x: [x['stars'], 1]) # map to 'star' rating values and add a numeric field to allow reduce functions\r\n",
        " .reduceByKey(lambda x,y: x+y) # reduce the rdd by the 'star' values and count the occurances of each possibility\r\n",
        " .map(lambda x: (x[0], x[1], (x[1]/elite_user_count)*100)) # map to the 'star' rating, count and a calculated % of the total count value\r\n",
        ")\r\n",
        "\r\n",
        "print('Total number of non-elite user reviews of businesses in Toronto: ', non_elite_user_count)\r\n",
        "print('Total number of elite user reviews of businesses in Toronto: ', elite_user_count)\r\n",
        "print('')\r\n",
        "\r\n",
        "# visualise the results\r\n",
        "\r\n",
        "x = non_elite_user_ratings.map(lambda x: x[0]).collect()\r\n",
        "y = non_elite_user_ratings.map(lambda x: x[2]).collect()\r\n",
        "z = elite_user_ratings.map(lambda x: x[2]).collect()\r\n",
        "w = 0.4\r\n",
        "\r\n",
        "fig = plt.figure(figsize=(11,7))\r\n",
        "ax = fig.add_subplot(111)\r\n",
        "plot1 = ax.bar(np.array(x)-(w/2), y, width=w, color='LightSeaGreen', align='center')\r\n",
        "plot2 = ax.bar(np.array(x)+(w/2), z, width=w, color='LightSalmon', align='center')\r\n",
        "ax.set_title('% frequency of star ratings from elite and non-elite yelp reviewers in the Toronto area')\r\n",
        "ax.set_xlabel('Star Rating')\r\n",
        "ax.set_ylabel('Review Frequency, %')\r\n",
        "ax.legend((plot1[0], plot2[0]), ('Non Elite Users', 'Elite Users'));"
      ],
      "execution_count": 19,
      "outputs": [
        {
          "output_type": "stream",
          "text": [
            "Total number of non-elite user reviews of businesses in Toronto:  273966\n",
            "Total number of elite user reviews of businesses in Toronto:  157019\n",
            "\n"
          ],
          "name": "stdout"
        },
        {
          "output_type": "display_data",
          "data": {
            "image/png": "[encoded data removed]",
            "text/plain": [
              "<Figure size 792x504 with 1 Axes>"
            ]
          },
          "metadata": {
            "tags": [],
            "needs_background": "light"
          }
        }
      ]
    },
    {
      "cell_type": "markdown",
      "metadata": {
        "id": "gSbL-fQ2OF8i"
      },
      "source": [
        "Key observations from the data are:\r\n",
        "-\tNegative reviews (1 and 2 star) are far less common that positive reviews (4 and 5 star)\r\n",
        "  -\t25% of non-elite user reviews negative versus 61% positive\r\n",
        "  -\t14% of elite user reviews negative versus 62% positive\r\n",
        "-\tElite users (most reviews 4 star) tend to be more conservative in their reviews than non-elite users (most reviews 5 star)\r\n",
        "-\tNon-elite users are more likely to give extreme reviews than elite users, in particular extreme negative reviews\r\n",
        "  -\t~1.6x more likely to give 5 stars and ~3.7x more likely to give 1 star\r\n",
        "\r\n",
        "These observations suggest that elite reviewers have a far more measured approach than non-elite reviewers when evaluating businesses.  The fact that non-elite reviewers are likelier to give extreme reviews suggests that casual users tend to review more when having a really positive or negative experience, while elite reviewers will provide an opinion for all levels of experience and are more selective when allocating high praise or criticism.  Also the small number of extreme negative reviews from elite users mean these ratings should hold extra emphasis for business owners due to the apparent reluctance for these users to issue such a review.\r\n"
      ]
    },
    {
      "cell_type": "markdown",
      "metadata": {
        "id": "fH1vLw8k1Zfy"
      },
      "source": [
        "For the next stage of the analysis we will now examine the usefulness of the reviews from the different user types, classed as the percentage of reviews tagged as useful by at least one other user.  Again the reviews will be segmented by their rating to allow deeper analysis on which type of reviews in the Toronto area are classed as useful by yelp users, with the results presented in a bar chart.  The visualisation is prepared in the code cell below as follows:\r\n",
        "-\tFilter the **Toronto_revs** rdd to the users with no history of elite status (done by selecting those with an '*elite*' status list length == 0)\r\n",
        "-\tFilter a separate instance of the Toronto_revs rdd to users with no history of elite status ***and*** where the review has been tagged as '*useful*' by at least one other user\r\n",
        "-\tMap both rdds to only the ‘*star*’ rating values and apply reduceByKey to generate a list of the potential ‘*star*’ ratings and the number of occurrences\r\n",
        "-\tInner join the two rdds using the ‘*star*’ rating as the key\r\n",
        "-\tFinally map a calculated field onto the joined rdd dividing the useful number of ratings for each potential ‘*star*’ value by the total number to create a percentage\r\n",
        "-\tRepeat these steps for the elite user group (filtered as those with an ‘*elite*’ status list > 0)\r\n",
        "-\tProduce a bar plot of the two percentage distributions for comparison\r\n"
      ]
    },
    {
      "cell_type": "code",
      "metadata": {
        "colab": {
          "base_uri": "https://localhost:8080/",
          "height": 458
        },
        "id": "4L1DWW3nReff",
        "outputId": "652ca061-8a2a-4ebc-8e45-35b39a885b9a"
      },
      "source": [
        "# visualisation of elite/non-elite useful ratings\r\n",
        "\r\n",
        "# sort and calculate non-elite figures\r\n",
        "\r\n",
        "non_elite_useful_ratings = (\r\n",
        "  (\r\n",
        "      Toronto_revs_rdd\r\n",
        "    .filter(lambda x: len(x['elite']) == 0) # filter to 'non-elite' user reviews\r\n",
        "  .map(lambda x: [x['stars'], 1]) # map to 'star' rating values and add a numeric field to allow reduce functions\r\n",
        "  .reduceByKey(lambda x,y: x+y) # reduce the rdd by the 'star' values and count the occurances of each possibility\r\n",
        "  ).join(\r\n",
        "    Toronto_revs_rdd\r\n",
        "    .filter(lambda x: len(x['elite']) == 0 and x['useful'] > 0) # filter to 'non-elite' user reviews whch have at least one 'useful' tag\r\n",
        "  .map(lambda x: [x['stars'], 1]) # map to 'star' rating values and add a numeric field to allow reduce functions\r\n",
        "  .reduceByKey(lambda x,y: x+y) # reduce the rdd by the 'star' values and count the occurances of each possibility\r\n",
        "  ).map(lambda x: (x[0], x[1][0], x[1][1], (x[1][1]/x[1][0])*100))  # map together the total number of reviews for each star rating, \r\n",
        "                                                                    # the total number of useful reviews at each star rating\r\n",
        "                                                                    # and calculate the percentage of useful reviews at each star rating\r\n",
        ")\r\n",
        "\r\n",
        "# sort and calculate elite figures\r\n",
        "\r\n",
        "elite_useful_ratings = (\r\n",
        "  (\r\n",
        "      Toronto_revs_rdd\r\n",
        "    .filter(lambda x: len(x['elite']) > 0) # filter to 'elite' user reviews\r\n",
        "  .map(lambda x: [x['stars'], 1]) # map to 'star' rating values and add a numeric field to allow reduce functions\r\n",
        "  .reduceByKey(lambda x,y: x+y) # reduce the rdd by the 'star' values and count the occurances of each possibility\r\n",
        "  ).join(\r\n",
        "    Toronto_revs_rdd\r\n",
        "    .filter(lambda x: len(x['elite']) > 0 and x['useful'] > 0) # filter to 'non-elite' user reviews whch have at least one 'useful' tag\r\n",
        "  .map(lambda x: [x['stars'], 1]) # map to 'star' rating values and add a numeric field to allow reduce functions\r\n",
        "  .reduceByKey(lambda x,y: x+y) # reduce the rdd by the 'star' values and count the occurances of each possibility\r\n",
        "  ).map(lambda x: (x[0], x[1][0], x[1][1], (x[1][1]/x[1][0])*100))  # map together the total number of reviews for each star rating, \r\n",
        "                                                                    # the total number of useful reviews at each star rating\r\n",
        "                                                                    # and calculate the percentage of useful reviews at each star rating\r\n",
        ")\r\n",
        "\r\n",
        "# visualise the results\r\n",
        "\r\n",
        "x = non_elite_useful_ratings.map(lambda x: x[0]).collect()\r\n",
        "y = non_elite_useful_ratings.map(lambda x: x[3]).collect()\r\n",
        "z = elite_useful_ratings.map(lambda x: x[3]).collect()\r\n",
        "w = 0.4\r\n",
        "\r\n",
        "fig = plt.figure(figsize=(11,7))\r\n",
        "ax = fig.add_subplot(111)\r\n",
        "plot1 = ax.bar(np.array(x)-(w/2), y, width=w, color='LightSeaGreen', align='center')\r\n",
        "plot2 = ax.bar(np.array(x)+(w/2), z, width=w, color='LightSalmon', align='center')\r\n",
        "ax.set_title('% of useful reviews at each star rating from elite and non-elite yelp reviewers in the Toronto area')\r\n",
        "ax.set_xlabel('Star Rating')\r\n",
        "ax.set_ylabel('% of Reviews Found Useful')\r\n",
        "ax.legend((plot1[0], plot2[0]), ('Non Elite Users', 'Elite Users'));"
      ],
      "execution_count": 20,
      "outputs": [
        {
          "output_type": "display_data",
          "data": {
            "image/png": "[encoded data removed]",
            "text/plain": [
              "<Figure size 792x504 with 1 Axes>"
            ]
          },
          "metadata": {
            "tags": [],
            "needs_background": "light"
          }
        }
      ]
    },
    {
      "cell_type": "markdown",
      "metadata": {
        "id": "OEuBePfh70WV"
      },
      "source": [
        "Key observations from the data are:\r\n",
        "-\tReviews from elite users are found more useful than those by non-elite users across all potential rating values\r\n",
        "  - ~30% point increase in the percentage of useful elite user reviews across the board to non-elite users\r\n",
        "-\tLittle difference is seen in the chance of being declared useful for 3, 4 and 5 star reviews\r\n",
        "  - ~60% chance for elite users, ~35% chance for non-elite users\r\n",
        "-\tEven the most useful class of non-elite user reviews (1 star – 58%) has less chance of being found useful that any of the elite user review classes (lowest is 3 star – 60%)\r\n",
        "-\tNegative reviews (1 and 2 star) are more likely to be classed as useful by other users than other review types for both elite and non-elite reviewers\r\n",
        "  -\tExtreme negative reviews (1 star) are also more likely to be classed as useful than 2 star\r\n",
        "  -\t80% of 1 star reviews considered useful for elite users, 58% for non-elite\r\n",
        "\r\n",
        "These observations suggest that other users put far more faith in elite user reviews than those of non-elite users, although caution must be taken as it is possible that having more reviews classed as useful may be one of the criteria to elevate a user to elite status.  It also shows that other users consider reviews concentrating on negative aspects of businesses to be more useful that those that concentrate on good aspects, implying that consumers would rather be warned about negative aspects than recommended good aspects of businesses.\r\n"
      ]
    },
    {
      "cell_type": "markdown",
      "metadata": {
        "id": "qFMqUfuG8DKr"
      },
      "source": [
        "## **Conclusions**"
      ]
    },
    {
      "cell_type": "markdown",
      "metadata": {
        "id": "hrXUxgbSC7N5"
      },
      "source": [
        "In conclusion we have identified three key observations for business owners in this study:\r\n",
        "1.\tElite and non-elite users show different traits in their reviewing behaviour.  Non-elite users are more likely to provide extreme reviews (1 and 5 star) than elite reviewers who tend to be more conservative.\r\n",
        "2.\tPositive reviews are far more common than negative for both elite and non-elite users.\r\n",
        "3.\tUsers are more likely to find negative reviews more useful than positive and are more likely to find reviews useful from elite users than non-elite.\r\n",
        "\r\n",
        "These observations show that business owners should put more emphasis on reviews from elite users when looking to make changes within their business.  Potential customers appear to put far more focus in the negative aspects of a business, so investment should be made to correct issues that occur rather than to emphasise positive aspects if budgets are limited.  In particular negative reviews from elite users should carry extra weight as they are more reluctant to provide this kind of feedback and other users/potential customers are more likely to find these useful than any other review type.\r\n",
        "\r\n",
        "An important caveat to all the observations made in this study is that it has only been performed for businesses within the Toronto area and work needs to be done to see if this provides a fair representation for businesses in all cities contained within the yelp database.  As suggested earlier investigation into regional or country biases in review data would provide an interesting expansion to this study and also provide additional information to business owners if looking to expand into other areas.\r\n"
      ]
    }
  ]
}