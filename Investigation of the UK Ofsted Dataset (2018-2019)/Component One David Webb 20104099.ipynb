{
 "cells": [
  {
   "cell_type": "markdown",
   "metadata": {},
   "source": [
    "# <center> Component One David Webb 20104099 <center>"
   ]
  },
  {
   "cell_type": "markdown",
   "metadata": {},
   "source": [
    "## Data Preparation Tasks\n",
    "\n",
    "Loading of datasets and filtering out unnecessary data before merging into one dataframe. <br>\n",
    "All data files were uploaded to a local Jupyter Notebook drive for import. <br>\n",
    "Additional initial data exploration has been omitted from the notebook for brevity on the assignment hand in."
   ]
  },
  {
   "cell_type": "code",
   "execution_count": 1,
   "metadata": {},
   "outputs": [
    {
     "name": "stdout",
     "output_type": "stream",
     "text": [
      "libraries imported\n"
     ]
    }
   ],
   "source": [
    "# import of necessary libraries for the data manipulation\n",
    "\n",
    "import numpy as np\n",
    "import pandas as pd\n",
    "import matplotlib.pyplot as plt\n",
    "import seaborn as sns\n",
    "%matplotlib inline\n",
    "sns.set_style(\"darkgrid\")\n",
    "\n",
    "print('libraries imported')"
   ]
  },
  {
   "cell_type": "markdown",
   "metadata": {},
   "source": [
    "### 1."
   ]
  },
  {
   "cell_type": "code",
   "execution_count": 2,
   "metadata": {},
   "outputs": [
    {
     "data": {
      "text/plain": [
       "(6396, 4)"
      ]
     },
     "execution_count": 2,
     "metadata": {},
     "output_type": "execute_result"
    }
   ],
   "source": [
    "# load 'england_school_information' data, filter to secondary schools data and reduce to desirable columns\n",
    "\n",
    "df1 = pd.read_excel('england_school_information.xlsx')\n",
    "                    \n",
    "df1 = df1[df1['ISSECONDARY'] == 1]\n",
    "\n",
    "df1 = df1[['URN', 'LA', 'GENDER', 'RELCHAR']]\n",
    "\n",
    "df1.shape"
   ]
  },
  {
   "cell_type": "markdown",
   "metadata": {},
   "source": [
    "### 2."
   ]
  },
  {
   "cell_type": "code",
   "execution_count": 3,
   "metadata": {},
   "outputs": [
    {
     "data": {
      "text/plain": [
       "(23942, 11)"
      ]
     },
     "execution_count": 3,
     "metadata": {},
     "output_type": "execute_result"
    }
   ],
   "source": [
    "# load 'england_census' data, generate % school meals column and reduce to desirable columns\n",
    "\n",
    "df2 = pd.read_excel('england_census.xlsx')\n",
    "\n",
    "# PFSM is multiplied by 100 to report as a % rather than a decimal to match other % data columns\n",
    "df2['PFSM'] = df2['NUMFSM'] / df2['NOR'] * 100\n",
    "\n",
    "df2 = df2[['URN', 'LA', 'PNORG', 'PNORB', 'PSENELSE', 'PSENELK', 'PNUMEAL', 'PNUMENGFL', 'PNUMUNCFL', 'PFSM', 'PNUMFSMEVER']]\n",
    "\n",
    "df2.shape"
   ]
  },
  {
   "cell_type": "markdown",
   "metadata": {},
   "source": [
    "### 3."
   ]
  },
  {
   "cell_type": "code",
   "execution_count": 4,
   "metadata": {},
   "outputs": [
    {
     "data": {
      "text/plain": [
       "(21217, 4)"
      ]
     },
     "execution_count": 4,
     "metadata": {},
     "output_type": "execute_result"
    }
   ],
   "source": [
    "# load 'england_abs' and reduce to desirable columns\n",
    "\n",
    "df3 = pd.read_excel('england_abs.xlsx')\n",
    "\n",
    "df3.drop(columns='ESTAB', inplace=True)\n",
    "\n",
    "df3.shape"
   ]
  },
  {
   "cell_type": "markdown",
   "metadata": {},
   "source": [
    "### 4."
   ]
  },
  {
   "cell_type": "code",
   "execution_count": 5,
   "metadata": {},
   "outputs": [
    {
     "data": {
      "text/plain": [
       "(5652, 16)"
      ]
     },
     "execution_count": 5,
     "metadata": {},
     "output_type": "execute_result"
    }
   ],
   "source": [
    "# load 'england_ks4provisional' and reduce to desirable columns\n",
    "\n",
    "df4 = pd.read_excel('england_ks4provisional.xlsx')\n",
    "\n",
    "df4 = df4[['URN', 'LEA', 'TPUP', 'P8PUP', 'ATT8SCR', 'P8MEA', 'P8CILOW', 'P8CIUPP', 'EBACCAPS', 'PTL2BASICS_94', 'PTL2BASICS_95', 'PTEBACC_E_PTQ_EE', 'PTEBACC_94', 'PTEBACC_95', 'PT5EM_94', 'P8_BANDING']]\n",
    "\n",
    "# set 'LEA' to 'LA' to match other datasets\n",
    "df4.rename(columns={'LEA':'LA'}, inplace=True)\n",
    "\n",
    "df4.shape"
   ]
  },
  {
   "cell_type": "markdown",
   "metadata": {},
   "source": [
    "### 5."
   ]
  },
  {
   "cell_type": "code",
   "execution_count": 6,
   "metadata": {},
   "outputs": [
    {
     "data": {
      "text/plain": [
       "(3878, 8)"
      ]
     },
     "execution_count": 6,
     "metadata": {},
     "output_type": "execute_result"
    }
   ],
   "source": [
    "# load 'england_ks4-pupdest' and reduce to desirable columns\n",
    "# assuming typo in the question on the assignment as 'england_ks4-pupdes' is not in the provided dataset\n",
    "\n",
    "df5 = pd.read_excel('england_ks4-pupdest.xlsx')\n",
    "\n",
    "df5 = df5[['URN', 'LEA', 'OVERALL_DESTPER', 'NOT_SUSTAINEDPER', 'UNKNOWNPER', 'OVERALL_DESTPER_DIS', 'NOT_SUSTAINEDPER_DIS', 'UNKNOWNPER_DIS']]\n",
    "\n",
    "# set 'LEA' to 'LA' to match other datasets\n",
    "df5.rename(columns={'LEA':'LA'}, inplace=True)\n",
    "\n",
    "df5.shape"
   ]
  },
  {
   "cell_type": "markdown",
   "metadata": {},
   "source": [
    "### 6."
   ]
  },
  {
   "cell_type": "code",
   "execution_count": 7,
   "metadata": {},
   "outputs": [
    {
     "data": {
      "text/plain": [
       "(6396, 35)"
      ]
     },
     "execution_count": 7,
     "metadata": {},
     "output_type": "execute_result"
    }
   ],
   "source": [
    "# merging of individual dataframes into a master set using left joins\n",
    "\n",
    "dfs = [df2, df3, df4, df5]\n",
    "df = df1\n",
    "\n",
    "for each_dfs in dfs:\n",
    "    df = df.merge(each_dfs, how='left', on=['URN', 'LA'])\n",
    "\n",
    "df.shape"
   ]
  },
  {
   "cell_type": "markdown",
   "metadata": {},
   "source": [
    "### 7."
   ]
  },
  {
   "cell_type": "code",
   "execution_count": 8,
   "metadata": {},
   "outputs": [
    {
     "data": {
      "text/plain": [
       "(6396, 36)"
      ]
     },
     "execution_count": 8,
     "metadata": {},
     "output_type": "execute_result"
    }
   ],
   "source": [
    "# load and join the offstead results to the master set\n",
    "\n",
    "results = pd.read_excel('OFSTED Ratings.xlsx')\n",
    "\n",
    "df = df.merge(results, how='left', on = ['URN'])\n",
    "\n",
    "df.shape"
   ]
  },
  {
   "cell_type": "markdown",
   "metadata": {},
   "source": [
    "df matches the provided model dataframe for the assignment, good to carry on."
   ]
  },
  {
   "cell_type": "markdown",
   "metadata": {},
   "source": [
    "## Data Preparation Continued"
   ]
  },
  {
   "cell_type": "markdown",
   "metadata": {},
   "source": [
    "Dealing with missing data and assessing for any errors."
   ]
  },
  {
   "cell_type": "markdown",
   "metadata": {},
   "source": [
    "### 8. Identifying Absent Data"
   ]
  },
  {
   "cell_type": "markdown",
   "metadata": {},
   "source": [
    "Number of absent of data points for each variable can be calculated using a simple sum by subtracting the data counts in each column from the data counts in the key 'URN' variable column."
   ]
  },
  {
   "cell_type": "code",
   "execution_count": 9,
   "metadata": {
    "scrolled": false
   },
   "outputs": [
    {
     "data": {
      "text/plain": [
       "URN                        0\n",
       "LA                         0\n",
       "GENDER                     0\n",
       "RELCHAR                  143\n",
       "PNORG                    864\n",
       "PNORB                    864\n",
       "PSENELSE                 868\n",
       "PSENELK                  866\n",
       "PNUMEAL                 2239\n",
       "PNUMENGFL               2239\n",
       "PNUMUNCFL               2239\n",
       "PFSM                    2239\n",
       "PNUMFSMEVER             2241\n",
       "PERCTOT                 2226\n",
       "PPERSABS10              2226\n",
       "TPUP                    2448\n",
       "P8PUP                   2448\n",
       "ATT8SCR                 2448\n",
       "P8MEA                   2448\n",
       "P8CILOW                 2448\n",
       "P8CIUPP                 2448\n",
       "EBACCAPS                2448\n",
       "PTL2BASICS_94           2448\n",
       "PTL2BASICS_95           2448\n",
       "PTEBACC_E_PTQ_EE        2448\n",
       "PTEBACC_94              2448\n",
       "PTEBACC_95              2448\n",
       "PT5EM_94                2448\n",
       "P8_BANDING              2863\n",
       "OVERALL_DESTPER         2668\n",
       "NOT_SUSTAINEDPER        2668\n",
       "UNKNOWNPER              2668\n",
       "OVERALL_DESTPER_DIS     2668\n",
       "NOT_SUSTAINEDPER_DIS    2668\n",
       "UNKNOWNPER_DIS          2668\n",
       "Rating                     0\n",
       "dtype: int64"
      ]
     },
     "execution_count": 9,
     "metadata": {},
     "output_type": "execute_result"
    }
   ],
   "source": [
    "# identify number of missing data points per variable\n",
    "\n",
    "df['URN'].count() - df.count()"
   ]
  },
  {
   "cell_type": "markdown",
   "metadata": {},
   "source": [
    "As can be seen there are numerous variables with missing data points, in particular the variables indicating disadvantage measures (such as free school meals and fist language % numbers), retention measures for pupils after key stage 4 and progress 8 data, with well over 2000 missing data points from a possible 6396.  The gov.uk website [1] where the data is stored indicates that these variables are not recorded for independent schools as in many cases they may not apply.   The British Education Supplier Association [2] reports that the number of independent and special schools in England is 2,319 and 1,044 respectively.  While this number does not tally exactly with the number of missing data points it is close, suggesting that non reporting of data for independent/special schools is the main cause for the missing data (this is confirmed in the two cells below by cross referenceing the 'MINORGROUP' variable from the 'england_schools_information' with the master dataset, showing that the number of special/independant schools in the data are greatly reduced once entries with null datapoints are removed). <br> <br>\n",
    "Additionally the gov.uk website indicates that there is a policy that any data that can be used to identify individual pupils is supressed from the dataset.  In particular any metric that could apply to less than 5 pupils is supressed and marked as 'SUPP' in the data.  Although this number is insignificant compared to the number of independent/special schools contained within the data.\n",
    "<br>\n",
    "<br>\n",
    "<font size=\"0.5\">\n",
    "[1]\t‘Understanding school and college performance measures’, GOV.UK. https://www.gov.uk/government/publications/understanding-school-and-college-performance-measures/understanding-school-and-college-performance-measures (accessed Nov. 20, 2020).\n",
    "<br>\n",
    "[2]\t‘Key UK education statistics’, BESA. https://www.besa.org.uk/key-uk-education-statistics/ (accessed Nov. 20, 2020).\n",
    "    </font>"
   ]
  },
  {
   "cell_type": "code",
   "execution_count": 10,
   "metadata": {},
   "outputs": [
    {
     "data": {
      "text/plain": [
       "Academy               2712\n",
       "Special school        1441\n",
       "Independent school    1326\n",
       "Maintained school      880\n",
       "College                 33\n",
       "Other                    4\n",
       "Name: MINORGROUP, dtype: int64"
      ]
     },
     "execution_count": 10,
     "metadata": {},
     "output_type": "execute_result"
    }
   ],
   "source": [
    "# reimport the 'england_school_information' dataset and merging the 'MINORGROUP' column onto the master dataset\n",
    "dfx = pd.read_excel('england_school_information.xlsx')\n",
    "dfx = dfx[dfx['ISSECONDARY'] == 1]\n",
    "dftemp = df.merge(dfx[['URN','LA','MINORGROUP']], how='left', on=['URN','LA'])\n",
    "\n",
    "# value count of school types on the complete master dataset\n",
    "dftemp['MINORGROUP'].value_counts()"
   ]
  },
  {
   "cell_type": "code",
   "execution_count": 11,
   "metadata": {},
   "outputs": [
    {
     "data": {
      "text/plain": [
       "Academy               2055\n",
       "Maintained school      786\n",
       "Special school         323\n",
       "Independent school       3\n",
       "Name: MINORGROUP, dtype: int64"
      ]
     },
     "execution_count": 11,
     "metadata": {},
     "output_type": "execute_result"
    }
   ],
   "source": [
    "# value count of school types on the master dataset with null values removed\n",
    "dftemp.dropna()['MINORGROUP'].value_counts()"
   ]
  },
  {
   "cell_type": "markdown",
   "metadata": {},
   "source": [
    "### 9. Dealing With Missing Data"
   ]
  },
  {
   "cell_type": "markdown",
   "metadata": {},
   "source": [
    "Missing data is a widely explored topic in data science [1]–[4] and can be dealt with using numerous different methods.  Three such methods are outlined briefly below with a discussion of the pros and cons of implementation.\n",
    "<br>\n",
    "<br>\n",
    "1.\tListwise deletion - any observation with one or more missing variable data values is deleted from the dataset<br>\n",
    " - Pros: simple to implement <br>\n",
    " - Cons: reduces size of the dataset, likely to introduce bias into the data particularly if null values are not completely random\n",
    "<br>\n",
    "<br>\n",
    "2.\tVariable deletion - any variable from the data set with one or more missing data lines is deleted from the dataset <br>\n",
    " - Pros: simple to implement <br>\n",
    " - Cons: can drastically reduce the size of the data, takes away useful data from complete entries in the dataset <br>\n",
    " - Notes: typically only done if more than 60% of data for the variable is missing [3]\n",
    "<br>\n",
    "<br>\n",
    "3.\tImputation – null entries are imputed with values calculated from other data contained within the dataset.  Several methods can be used, two of which are discussed below with pros and cons of implementation. <br>\n",
    " - Statistical value substitution – replacing the null value with a statistical value (mean, median or mode) calculated from the complete values for the variable <br>\n",
    "    - Pros: simple to implement, no reduction in data from the dataset <br>\n",
    "    - Reduces variation in the dataset, may impart bias to the data particularly if null values are not completely random <br> <br>\n",
    " - Modelled value substitution – replacing the null value with a modelled value based on other data in the dataset.  Methods include machine learning algorithms such as regression (continuous data) and KNN (categorical data). <br>\n",
    "    - Pros: no reduction in data from the dataset, more likely to maintain the underlying variability of the data, less open to bias <br>\n",
    "    - Cons: can be complex to implement, accuracy can be reduced in highly dimensional data, relies on good correlation within the dataset"
   ]
  },
  {
   "cell_type": "markdown",
   "metadata": {},
   "source": [
    "For our data one method we could apply is to subset the data by the OFSETD rating response variable and impute the mean average data for the null values from the specific variable within the subsets.  The issue with this however is that numerous entries have missing data across multiple if not nearly all available variables, which would lead to a drastic reduction in variability across nearly all variables in the dataset.  \n",
    "<br>\n",
    "Additionally we have previously identified that the entries with missing data are from a subset dominated of independent/special schools within the dataset (checked via cross referencing the ‘MINORGROUP’ column on the ‘england_school_dataset’ against the ‘URN’ number of data entries with lot of missing data).  Imputing of data from a subset dominated by maintained schools onto a subset of independent schools assumes that there will be no differences in the metrics of the school types which is a dangerous assumption to make and would heavily influence the data based on the characteristics of maintained schools.  Instead a safer option is to remove the data entries with null values and add a caveat to the data that the findings are heavily based on academy/maintained school data to address any bias.\n",
    "<br>\n",
    "<br>\n",
    "<font size=\"0.5\">\n",
    "[1]\tY. Dong and C.-Y. J. Peng, ‘Principled missing data methods for researchers’, SpringerPlus, vol. 2, May 2013, doi: 10.1186/2193-1801-2-222. <br>\n",
    "[2]\tH. Kang, ‘The prevention and handling of the missing data’, Korean J. Anesthesiol., vol. 64, no. 5, pp. 402–406, May 2013, doi: 10.4097/kjae.2013.64.5.402. <br>\n",
    "[3]\tA. Swalin, ‘How to Handle Missing Data’, Medium, Mar. 19, 2018. https://towardsdatascience.com/how-to-handle-missing-data-8646b18db0d4 (accessed Nov. 21, 2020). <br>\n",
    "[4]\tD. B. Rubin, ‘Inference and Missing Data’, Biometrika, vol. 63, no. 3, pp. 581–592, 1976, doi: 10.2307/2335739.\n",
    "</font>"
   ]
  },
  {
   "cell_type": "code",
   "execution_count": 12,
   "metadata": {},
   "outputs": [],
   "source": [
    "# removal of null value lines from the master dataset\n",
    "df = df.dropna()"
   ]
  },
  {
   "cell_type": "markdown",
   "metadata": {},
   "source": [
    "### 10. Data Validity Check"
   ]
  },
  {
   "cell_type": "markdown",
   "metadata": {},
   "source": [
    "A quick check on the validity of the data is done by first separating the variables into numeric, percentage and categorical value columns.  Each of the variable types can then be assessed for data validity via statistical data summary for the numeric/percentage columns or via assessing the unique entries in the categorical columns.  Checks for each of the variable types along with relevant comment are performed in the subtitled sections below."
   ]
  },
  {
   "cell_type": "markdown",
   "metadata": {},
   "source": [
    "#### Data Prep"
   ]
  },
  {
   "cell_type": "code",
   "execution_count": 13,
   "metadata": {},
   "outputs": [],
   "source": [
    "# split variable columns into numeric, percentage and categorical columns\n",
    "\n",
    "num_col = ['TPUP', 'P8PUP', 'ATT8SCR', 'P8MEA', 'P8CILOW',\n",
    "       'P8CIUPP', 'EBACCAPS', ]\n",
    "\n",
    "percent_col = ['PNORG', 'PNORB', 'PSENELSE',\n",
    "       'PSENELK', 'PNUMEAL', 'PNUMENGFL', 'PNUMUNCFL', 'PFSM', 'PNUMFSMEVER',\n",
    "       'PERCTOT', 'PPERSABS10', 'PTL2BASICS_94', 'PTL2BASICS_95',\n",
    "       'PTEBACC_E_PTQ_EE', 'PTEBACC_94', 'PTEBACC_95', 'PT5EM_94',\n",
    "       'OVERALL_DESTPER', 'NOT_SUSTAINEDPER', 'UNKNOWNPER',\n",
    "       'OVERALL_DESTPER_DIS', 'NOT_SUSTAINEDPER_DIS', 'UNKNOWNPER_DIS']\n",
    "\n",
    "cat_col = ['GENDER', 'RELCHAR', 'P8_BANDING', 'Rating']\n",
    "\n",
    "# non numeric values temporarily removed from mixed columns to allow the quick generation of summary stats\n",
    "df_temp = df.replace(['SUPP','NE','LOWCOV', 'SP'], np.nan)\n",
    "\n",
    "# convert all non categorical columns to float values to allow summary stats on the numbers\n",
    "non_cat = num_col + percent_col\n",
    "df_temp_non_cat = df_temp[non_cat].astype('float64')"
   ]
  },
  {
   "cell_type": "markdown",
   "metadata": {},
   "source": [
    "#### Numeric Variables"
   ]
  },
  {
   "cell_type": "code",
   "execution_count": 14,
   "metadata": {},
   "outputs": [
    {
     "data": {
      "text/html": [
       "<div>\n",
       "<style scoped>\n",
       "    .dataframe tbody tr th:only-of-type {\n",
       "        vertical-align: middle;\n",
       "    }\n",
       "\n",
       "    .dataframe tbody tr th {\n",
       "        vertical-align: top;\n",
       "    }\n",
       "\n",
       "    .dataframe thead th {\n",
       "        text-align: right;\n",
       "    }\n",
       "</style>\n",
       "<table border=\"1\" class=\"dataframe\">\n",
       "  <thead>\n",
       "    <tr style=\"text-align: right;\">\n",
       "      <th></th>\n",
       "      <th>TPUP</th>\n",
       "      <th>P8PUP</th>\n",
       "      <th>ATT8SCR</th>\n",
       "      <th>P8MEA</th>\n",
       "      <th>P8CILOW</th>\n",
       "      <th>P8CIUPP</th>\n",
       "      <th>EBACCAPS</th>\n",
       "    </tr>\n",
       "  </thead>\n",
       "  <tbody>\n",
       "    <tr>\n",
       "      <td>count</td>\n",
       "      <td>3167.000000</td>\n",
       "      <td>3167.000000</td>\n",
       "      <td>3167.000000</td>\n",
       "      <td>3167.000000</td>\n",
       "      <td>3167.000000</td>\n",
       "      <td>3167.000000</td>\n",
       "      <td>3167.000000</td>\n",
       "    </tr>\n",
       "    <tr>\n",
       "      <td>mean</td>\n",
       "      <td>153.613199</td>\n",
       "      <td>146.172087</td>\n",
       "      <td>43.103221</td>\n",
       "      <td>-0.187209</td>\n",
       "      <td>-0.444610</td>\n",
       "      <td>0.070196</td>\n",
       "      <td>3.746757</td>\n",
       "    </tr>\n",
       "    <tr>\n",
       "      <td>std</td>\n",
       "      <td>74.313725</td>\n",
       "      <td>72.355162</td>\n",
       "      <td>15.520925</td>\n",
       "      <td>0.737485</td>\n",
       "      <td>0.853901</td>\n",
       "      <td>0.636419</td>\n",
       "      <td>1.493622</td>\n",
       "    </tr>\n",
       "    <tr>\n",
       "      <td>min</td>\n",
       "      <td>6.000000</td>\n",
       "      <td>6.000000</td>\n",
       "      <td>0.000000</td>\n",
       "      <td>-3.530000</td>\n",
       "      <td>-4.480000</td>\n",
       "      <td>-2.580000</td>\n",
       "      <td>0.000000</td>\n",
       "    </tr>\n",
       "    <tr>\n",
       "      <td>25%</td>\n",
       "      <td>111.000000</td>\n",
       "      <td>103.000000</td>\n",
       "      <td>39.600000</td>\n",
       "      <td>-0.420000</td>\n",
       "      <td>-0.630000</td>\n",
       "      <td>-0.200000</td>\n",
       "      <td>3.280000</td>\n",
       "    </tr>\n",
       "    <tr>\n",
       "      <td>50%</td>\n",
       "      <td>158.000000</td>\n",
       "      <td>149.000000</td>\n",
       "      <td>45.300000</td>\n",
       "      <td>-0.060000</td>\n",
       "      <td>-0.270000</td>\n",
       "      <td>0.140000</td>\n",
       "      <td>3.890000</td>\n",
       "    </tr>\n",
       "    <tr>\n",
       "      <td>75%</td>\n",
       "      <td>202.000000</td>\n",
       "      <td>195.000000</td>\n",
       "      <td>51.000000</td>\n",
       "      <td>0.270000</td>\n",
       "      <td>0.060000</td>\n",
       "      <td>0.470000</td>\n",
       "      <td>4.520000</td>\n",
       "    </tr>\n",
       "    <tr>\n",
       "      <td>max</td>\n",
       "      <td>563.000000</td>\n",
       "      <td>544.000000</td>\n",
       "      <td>85.100000</td>\n",
       "      <td>2.170000</td>\n",
       "      <td>1.940000</td>\n",
       "      <td>2.410000</td>\n",
       "      <td>8.420000</td>\n",
       "    </tr>\n",
       "  </tbody>\n",
       "</table>\n",
       "</div>"
      ],
      "text/plain": [
       "              TPUP        P8PUP      ATT8SCR        P8MEA      P8CILOW  \\\n",
       "count  3167.000000  3167.000000  3167.000000  3167.000000  3167.000000   \n",
       "mean    153.613199   146.172087    43.103221    -0.187209    -0.444610   \n",
       "std      74.313725    72.355162    15.520925     0.737485     0.853901   \n",
       "min       6.000000     6.000000     0.000000    -3.530000    -4.480000   \n",
       "25%     111.000000   103.000000    39.600000    -0.420000    -0.630000   \n",
       "50%     158.000000   149.000000    45.300000    -0.060000    -0.270000   \n",
       "75%     202.000000   195.000000    51.000000     0.270000     0.060000   \n",
       "max     563.000000   544.000000    85.100000     2.170000     1.940000   \n",
       "\n",
       "           P8CIUPP     EBACCAPS  \n",
       "count  3167.000000  3167.000000  \n",
       "mean      0.070196     3.746757  \n",
       "std       0.636419     1.493622  \n",
       "min      -2.580000     0.000000  \n",
       "25%      -0.200000     3.280000  \n",
       "50%       0.140000     3.890000  \n",
       "75%       0.470000     4.520000  \n",
       "max       2.410000     8.420000  "
      ]
     },
     "execution_count": 14,
     "metadata": {},
     "output_type": "execute_result"
    }
   ],
   "source": [
    "# summary stats for the numeric variables\n",
    "df_temp_non_cat[num_col].describe()"
   ]
  },
  {
   "cell_type": "markdown",
   "metadata": {},
   "source": [
    "The 'TPUP' and 'P8PUP' variables are both measures of pupil populations within a school, for valid data we would expect to see no negative values and no clearly incorrect upper values (e.g. 1 million pupils).  As we see neither we can conclude that the data is valid for these variables.\n",
    "<br> <br>\n",
    "The 'ATT8SCR' and 'EBACCAPS' variables are both measures of average test score values for pupils.  For valid data we would expect to see no negative values and no spurious outliers in the upper values of the data.  As we see neither we can conclude that the data is valid for these variables.\n",
    "<br> <br>\n",
    "Finally the 'P8MEA', 'P8CILOW' and 'P8CIUPP' variables are all measures of progress of pupils in test scores.  As progress can be both negative and positive we are looking for no spurious outliers in the max and min data for these metrics to assess for data validity.  As we see neither we can conclude that the data is valid for these variables."
   ]
  },
  {
   "cell_type": "markdown",
   "metadata": {},
   "source": [
    "#### Percentage Variables"
   ]
  },
  {
   "cell_type": "code",
   "execution_count": 15,
   "metadata": {},
   "outputs": [
    {
     "data": {
      "text/html": [
       "<div>\n",
       "<style scoped>\n",
       "    .dataframe tbody tr th:only-of-type {\n",
       "        vertical-align: middle;\n",
       "    }\n",
       "\n",
       "    .dataframe tbody tr th {\n",
       "        vertical-align: top;\n",
       "    }\n",
       "\n",
       "    .dataframe thead th {\n",
       "        text-align: right;\n",
       "    }\n",
       "</style>\n",
       "<table border=\"1\" class=\"dataframe\">\n",
       "  <thead>\n",
       "    <tr style=\"text-align: right;\">\n",
       "      <th></th>\n",
       "      <th>PNORG</th>\n",
       "      <th>PNORB</th>\n",
       "      <th>PSENELSE</th>\n",
       "      <th>PSENELK</th>\n",
       "      <th>PNUMEAL</th>\n",
       "      <th>PNUMENGFL</th>\n",
       "      <th>PNUMUNCFL</th>\n",
       "      <th>PFSM</th>\n",
       "      <th>PNUMFSMEVER</th>\n",
       "      <th>PERCTOT</th>\n",
       "      <th>PPERSABS10</th>\n",
       "    </tr>\n",
       "  </thead>\n",
       "  <tbody>\n",
       "    <tr>\n",
       "      <td>count</td>\n",
       "      <td>3167.000000</td>\n",
       "      <td>3167.000000</td>\n",
       "      <td>3167.000000</td>\n",
       "      <td>3167.000000</td>\n",
       "      <td>3167.000000</td>\n",
       "      <td>3167.000000</td>\n",
       "      <td>3167.000000</td>\n",
       "      <td>3167.000000</td>\n",
       "      <td>3167.000000</td>\n",
       "      <td>3167.000000</td>\n",
       "      <td>3166.000000</td>\n",
       "    </tr>\n",
       "    <tr>\n",
       "      <td>mean</td>\n",
       "      <td>46.877329</td>\n",
       "      <td>53.122798</td>\n",
       "      <td>11.663151</td>\n",
       "      <td>10.182633</td>\n",
       "      <td>15.330755</td>\n",
       "      <td>84.284654</td>\n",
       "      <td>0.384970</td>\n",
       "      <td>17.658388</td>\n",
       "      <td>31.286328</td>\n",
       "      <td>6.382602</td>\n",
       "      <td>16.090998</td>\n",
       "    </tr>\n",
       "    <tr>\n",
       "      <td>std</td>\n",
       "      <td>19.136398</td>\n",
       "      <td>19.136439</td>\n",
       "      <td>29.509463</td>\n",
       "      <td>6.316953</td>\n",
       "      <td>18.873235</td>\n",
       "      <td>19.089321</td>\n",
       "      <td>1.813857</td>\n",
       "      <td>13.531762</td>\n",
       "      <td>17.982448</td>\n",
       "      <td>3.867737</td>\n",
       "      <td>10.362532</td>\n",
       "    </tr>\n",
       "    <tr>\n",
       "      <td>min</td>\n",
       "      <td>0.000000</td>\n",
       "      <td>0.000000</td>\n",
       "      <td>0.000000</td>\n",
       "      <td>0.000000</td>\n",
       "      <td>0.000000</td>\n",
       "      <td>3.600000</td>\n",
       "      <td>0.000000</td>\n",
       "      <td>0.313234</td>\n",
       "      <td>1.800000</td>\n",
       "      <td>2.100000</td>\n",
       "      <td>1.100000</td>\n",
       "    </tr>\n",
       "    <tr>\n",
       "      <td>25%</td>\n",
       "      <td>45.600000</td>\n",
       "      <td>49.100000</td>\n",
       "      <td>0.900000</td>\n",
       "      <td>6.100000</td>\n",
       "      <td>2.800000</td>\n",
       "      <td>79.600000</td>\n",
       "      <td>0.000000</td>\n",
       "      <td>7.734720</td>\n",
       "      <td>17.200000</td>\n",
       "      <td>4.800000</td>\n",
       "      <td>10.500000</td>\n",
       "    </tr>\n",
       "    <tr>\n",
       "      <td>50%</td>\n",
       "      <td>48.800000</td>\n",
       "      <td>51.200000</td>\n",
       "      <td>1.600000</td>\n",
       "      <td>9.900000</td>\n",
       "      <td>7.300000</td>\n",
       "      <td>92.500000</td>\n",
       "      <td>0.000000</td>\n",
       "      <td>13.802083</td>\n",
       "      <td>27.900000</td>\n",
       "      <td>5.500000</td>\n",
       "      <td>13.900000</td>\n",
       "    </tr>\n",
       "    <tr>\n",
       "      <td>75%</td>\n",
       "      <td>50.900000</td>\n",
       "      <td>54.400000</td>\n",
       "      <td>2.750000</td>\n",
       "      <td>13.800000</td>\n",
       "      <td>20.000000</td>\n",
       "      <td>97.000000</td>\n",
       "      <td>0.200000</td>\n",
       "      <td>23.925435</td>\n",
       "      <td>42.600000</td>\n",
       "      <td>6.600000</td>\n",
       "      <td>18.175000</td>\n",
       "    </tr>\n",
       "    <tr>\n",
       "      <td>max</td>\n",
       "      <td>100.000000</td>\n",
       "      <td>100.000000</td>\n",
       "      <td>100.000000</td>\n",
       "      <td>41.300000</td>\n",
       "      <td>96.400000</td>\n",
       "      <td>100.000000</td>\n",
       "      <td>75.300000</td>\n",
       "      <td>85.294118</td>\n",
       "      <td>97.600000</td>\n",
       "      <td>49.600000</td>\n",
       "      <td>87.500000</td>\n",
       "    </tr>\n",
       "  </tbody>\n",
       "</table>\n",
       "</div>"
      ],
      "text/plain": [
       "             PNORG        PNORB     PSENELSE      PSENELK      PNUMEAL  \\\n",
       "count  3167.000000  3167.000000  3167.000000  3167.000000  3167.000000   \n",
       "mean     46.877329    53.122798    11.663151    10.182633    15.330755   \n",
       "std      19.136398    19.136439    29.509463     6.316953    18.873235   \n",
       "min       0.000000     0.000000     0.000000     0.000000     0.000000   \n",
       "25%      45.600000    49.100000     0.900000     6.100000     2.800000   \n",
       "50%      48.800000    51.200000     1.600000     9.900000     7.300000   \n",
       "75%      50.900000    54.400000     2.750000    13.800000    20.000000   \n",
       "max     100.000000   100.000000   100.000000    41.300000    96.400000   \n",
       "\n",
       "         PNUMENGFL    PNUMUNCFL         PFSM  PNUMFSMEVER      PERCTOT  \\\n",
       "count  3167.000000  3167.000000  3167.000000  3167.000000  3167.000000   \n",
       "mean     84.284654     0.384970    17.658388    31.286328     6.382602   \n",
       "std      19.089321     1.813857    13.531762    17.982448     3.867737   \n",
       "min       3.600000     0.000000     0.313234     1.800000     2.100000   \n",
       "25%      79.600000     0.000000     7.734720    17.200000     4.800000   \n",
       "50%      92.500000     0.000000    13.802083    27.900000     5.500000   \n",
       "75%      97.000000     0.200000    23.925435    42.600000     6.600000   \n",
       "max     100.000000    75.300000    85.294118    97.600000    49.600000   \n",
       "\n",
       "        PPERSABS10  \n",
       "count  3166.000000  \n",
       "mean     16.090998  \n",
       "std      10.362532  \n",
       "min       1.100000  \n",
       "25%      10.500000  \n",
       "50%      13.900000  \n",
       "75%      18.175000  \n",
       "max      87.500000  "
      ]
     },
     "execution_count": 15,
     "metadata": {},
     "output_type": "execute_result"
    }
   ],
   "source": [
    "# summary stats for the first 10 percentage columns\n",
    "df_temp_non_cat[percent_col].iloc[:, :11].describe()"
   ]
  },
  {
   "cell_type": "code",
   "execution_count": 16,
   "metadata": {
    "scrolled": false
   },
   "outputs": [
    {
     "data": {
      "text/html": [
       "<div>\n",
       "<style scoped>\n",
       "    .dataframe tbody tr th:only-of-type {\n",
       "        vertical-align: middle;\n",
       "    }\n",
       "\n",
       "    .dataframe tbody tr th {\n",
       "        vertical-align: top;\n",
       "    }\n",
       "\n",
       "    .dataframe thead th {\n",
       "        text-align: right;\n",
       "    }\n",
       "</style>\n",
       "<table border=\"1\" class=\"dataframe\">\n",
       "  <thead>\n",
       "    <tr style=\"text-align: right;\">\n",
       "      <th></th>\n",
       "      <th>PTL2BASICS_94</th>\n",
       "      <th>PTL2BASICS_95</th>\n",
       "      <th>PTEBACC_E_PTQ_EE</th>\n",
       "      <th>PTEBACC_94</th>\n",
       "      <th>PTEBACC_95</th>\n",
       "      <th>PT5EM_94</th>\n",
       "      <th>OVERALL_DESTPER</th>\n",
       "      <th>NOT_SUSTAINEDPER</th>\n",
       "      <th>UNKNOWNPER</th>\n",
       "      <th>OVERALL_DESTPER_DIS</th>\n",
       "      <th>NOT_SUSTAINEDPER_DIS</th>\n",
       "      <th>UNKNOWNPER_DIS</th>\n",
       "    </tr>\n",
       "  </thead>\n",
       "  <tbody>\n",
       "    <tr>\n",
       "      <td>count</td>\n",
       "      <td>3167.000000</td>\n",
       "      <td>3167.000000</td>\n",
       "      <td>3167.000000</td>\n",
       "      <td>3167.000000</td>\n",
       "      <td>3167.000000</td>\n",
       "      <td>3167.000000</td>\n",
       "      <td>3142.000000</td>\n",
       "      <td>3126.000000</td>\n",
       "      <td>2916.000000</td>\n",
       "      <td>2901.000000</td>\n",
       "      <td>2885.000000</td>\n",
       "      <td>2885.000000</td>\n",
       "    </tr>\n",
       "    <tr>\n",
       "      <td>mean</td>\n",
       "      <td>0.590366</td>\n",
       "      <td>0.392277</td>\n",
       "      <td>0.360870</td>\n",
       "      <td>0.225154</td>\n",
       "      <td>0.155078</td>\n",
       "      <td>0.549239</td>\n",
       "      <td>0.929723</td>\n",
       "      <td>0.060905</td>\n",
       "      <td>0.010885</td>\n",
       "      <td>0.895371</td>\n",
       "      <td>0.093279</td>\n",
       "      <td>0.011785</td>\n",
       "    </tr>\n",
       "    <tr>\n",
       "      <td>std</td>\n",
       "      <td>0.241459</td>\n",
       "      <td>0.217672</td>\n",
       "      <td>0.265341</td>\n",
       "      <td>0.196193</td>\n",
       "      <td>0.161797</td>\n",
       "      <td>0.240388</td>\n",
       "      <td>0.081566</td>\n",
       "      <td>0.074417</td>\n",
       "      <td>0.019751</td>\n",
       "      <td>0.071058</td>\n",
       "      <td>0.066057</td>\n",
       "      <td>0.022084</td>\n",
       "    </tr>\n",
       "    <tr>\n",
       "      <td>min</td>\n",
       "      <td>0.000000</td>\n",
       "      <td>0.000000</td>\n",
       "      <td>0.000000</td>\n",
       "      <td>0.000000</td>\n",
       "      <td>0.000000</td>\n",
       "      <td>0.000000</td>\n",
       "      <td>0.110000</td>\n",
       "      <td>0.000000</td>\n",
       "      <td>0.000000</td>\n",
       "      <td>0.330000</td>\n",
       "      <td>0.000000</td>\n",
       "      <td>0.000000</td>\n",
       "    </tr>\n",
       "    <tr>\n",
       "      <td>25%</td>\n",
       "      <td>0.500000</td>\n",
       "      <td>0.270500</td>\n",
       "      <td>0.144000</td>\n",
       "      <td>0.079000</td>\n",
       "      <td>0.043000</td>\n",
       "      <td>0.447000</td>\n",
       "      <td>0.920000</td>\n",
       "      <td>0.030000</td>\n",
       "      <td>0.000000</td>\n",
       "      <td>0.860000</td>\n",
       "      <td>0.050000</td>\n",
       "      <td>0.000000</td>\n",
       "    </tr>\n",
       "    <tr>\n",
       "      <td>50%</td>\n",
       "      <td>0.633000</td>\n",
       "      <td>0.386000</td>\n",
       "      <td>0.328000</td>\n",
       "      <td>0.185000</td>\n",
       "      <td>0.114000</td>\n",
       "      <td>0.581000</td>\n",
       "      <td>0.950000</td>\n",
       "      <td>0.050000</td>\n",
       "      <td>0.010000</td>\n",
       "      <td>0.900000</td>\n",
       "      <td>0.090000</td>\n",
       "      <td>0.000000</td>\n",
       "    </tr>\n",
       "    <tr>\n",
       "      <td>75%</td>\n",
       "      <td>0.739000</td>\n",
       "      <td>0.510000</td>\n",
       "      <td>0.546000</td>\n",
       "      <td>0.321500</td>\n",
       "      <td>0.212000</td>\n",
       "      <td>0.697000</td>\n",
       "      <td>0.970000</td>\n",
       "      <td>0.070000</td>\n",
       "      <td>0.010000</td>\n",
       "      <td>0.940000</td>\n",
       "      <td>0.130000</td>\n",
       "      <td>0.020000</td>\n",
       "    </tr>\n",
       "    <tr>\n",
       "      <td>max</td>\n",
       "      <td>1.000000</td>\n",
       "      <td>1.000000</td>\n",
       "      <td>1.000000</td>\n",
       "      <td>1.000000</td>\n",
       "      <td>0.990000</td>\n",
       "      <td>1.000000</td>\n",
       "      <td>1.000000</td>\n",
       "      <td>0.890000</td>\n",
       "      <td>0.400000</td>\n",
       "      <td>1.000000</td>\n",
       "      <td>0.670000</td>\n",
       "      <td>0.230000</td>\n",
       "    </tr>\n",
       "  </tbody>\n",
       "</table>\n",
       "</div>"
      ],
      "text/plain": [
       "       PTL2BASICS_94  PTL2BASICS_95  PTEBACC_E_PTQ_EE   PTEBACC_94  \\\n",
       "count    3167.000000    3167.000000       3167.000000  3167.000000   \n",
       "mean        0.590366       0.392277          0.360870     0.225154   \n",
       "std         0.241459       0.217672          0.265341     0.196193   \n",
       "min         0.000000       0.000000          0.000000     0.000000   \n",
       "25%         0.500000       0.270500          0.144000     0.079000   \n",
       "50%         0.633000       0.386000          0.328000     0.185000   \n",
       "75%         0.739000       0.510000          0.546000     0.321500   \n",
       "max         1.000000       1.000000          1.000000     1.000000   \n",
       "\n",
       "        PTEBACC_95     PT5EM_94  OVERALL_DESTPER  NOT_SUSTAINEDPER  \\\n",
       "count  3167.000000  3167.000000      3142.000000       3126.000000   \n",
       "mean      0.155078     0.549239         0.929723          0.060905   \n",
       "std       0.161797     0.240388         0.081566          0.074417   \n",
       "min       0.000000     0.000000         0.110000          0.000000   \n",
       "25%       0.043000     0.447000         0.920000          0.030000   \n",
       "50%       0.114000     0.581000         0.950000          0.050000   \n",
       "75%       0.212000     0.697000         0.970000          0.070000   \n",
       "max       0.990000     1.000000         1.000000          0.890000   \n",
       "\n",
       "        UNKNOWNPER  OVERALL_DESTPER_DIS  NOT_SUSTAINEDPER_DIS  UNKNOWNPER_DIS  \n",
       "count  2916.000000          2901.000000           2885.000000     2885.000000  \n",
       "mean      0.010885             0.895371              0.093279        0.011785  \n",
       "std       0.019751             0.071058              0.066057        0.022084  \n",
       "min       0.000000             0.330000              0.000000        0.000000  \n",
       "25%       0.000000             0.860000              0.050000        0.000000  \n",
       "50%       0.010000             0.900000              0.090000        0.000000  \n",
       "75%       0.010000             0.940000              0.130000        0.020000  \n",
       "max       0.400000             1.000000              0.670000        0.230000  "
      ]
     },
     "execution_count": 16,
     "metadata": {},
     "output_type": "execute_result"
    }
   ],
   "source": [
    "# summary stats for the remaining 10 percentage columns\n",
    "df_temp_non_cat[percent_col].iloc[:, 11:].describe()"
   ]
  },
  {
   "cell_type": "markdown",
   "metadata": {},
   "source": [
    "For the percentage columns we are checking for no values >100% and no values <0%.  As we see neither we can conclude that the data is valid for these variables."
   ]
  },
  {
   "cell_type": "markdown",
   "metadata": {},
   "source": [
    "#### Categorical Data"
   ]
  },
  {
   "cell_type": "code",
   "execution_count": 17,
   "metadata": {},
   "outputs": [
    {
     "name": "stdout",
     "output_type": "stream",
     "text": [
      "GENDER ['Mixed' 'Girls' 'Boys']\n",
      "\n",
      "RELCHAR ['Does not apply' 'None' 'Roman Catholic' 'Church of England' 'Jewish'\n",
      " 'Roman Catholic/Church of England' 'Church of England/Roman Catholic'\n",
      " 'Muslim' 'Christian' 'Sikh' 'Church of England/Christian' 'Hindu'\n",
      " 'Catholic']\n",
      "\n",
      "P8_BANDING [ 3.  1.  4.  5.  2. nan]\n",
      "\n",
      "Rating ['Good' 'Outstanding' 'Inadequate' 'Requires Improvement' 'Unknown']\n"
     ]
    }
   ],
   "source": [
    "# check unique values in categaorical columns for validity\n",
    "\n",
    "print('GENDER', df_temp['GENDER'].unique())\n",
    "print('')\n",
    "print('RELCHAR', df_temp['RELCHAR'].unique())\n",
    "print('')\n",
    "print('P8_BANDING', df_temp['P8_BANDING'].unique())\n",
    "print('')\n",
    "print('Rating', df_temp['Rating'].unique())"
   ]
  },
  {
   "cell_type": "markdown",
   "metadata": {},
   "source": [
    "Categorical data is trickier to validity check than numerical.  To assess the columns we are essentially checking for any none-sensical values given the description of the variable, for example an entry of 'green' in the 'GENDER' variable would clearly not be a valid value.  Assessing the unique values in each of the categorical variables and cross referencing to the available meta data we can see no non-sensical values so can conclude that the data is valid."
   ]
  },
  {
   "cell_type": "markdown",
   "metadata": {},
   "source": [
    "It is noted however that the 'RELCHAR' variable has numerous different entries representing the same thing.  This is solved in the cell below as follows:\n",
    " - 'Roman Catholic/Church of England', 'Church of England/Roman Catholic' and 'Christian' are redefined as 'Christian (Non-specific)'\n",
    " - 'Does not apply' is redefined as 'None'\n",
    " - 'Roman Catholic' is redefined as 'Catholic'"
   ]
  },
  {
   "cell_type": "code",
   "execution_count": 18,
   "metadata": {},
   "outputs": [
    {
     "name": "stdout",
     "output_type": "stream",
     "text": [
      "RELCHAR ['Does not apply' 'None' 'Roman Catholic' 'Church of England' 'Jewish'\n",
      " 'Roman Catholic/Church of England' 'Church of England/Roman Catholic'\n",
      " 'Muslim' 'Christian' 'Sikh' 'Church of England/Christian' 'Hindu'\n",
      " 'Catholic']\n"
     ]
    }
   ],
   "source": [
    "# redefine 'Christian (Non-specific)' entries\n",
    "chris_non_spec = ['Roman Catholic/Church of England', 'Church of England/Roman Catholic', 'Christian']\n",
    "\n",
    "for x in chris_non_spec:\n",
    "    df.loc[df['RELCHAR'].str.contains(x), 'RELCHAR'] = 'Christian (Non-specific)'\n",
    "    \n",
    "# redefine 'None' entries\n",
    "df.loc[df['RELCHAR'].str.contains('Does not apply'), 'RELCHAR'] = 'None'\n",
    "\n",
    "# redefine 'Catholic' entries\n",
    "df.loc[df['RELCHAR'].str.contains('Roman Catholic'), 'RELCHAR'] = 'Catholic'\n",
    "\n",
    "print('RELCHAR', df_temp['RELCHAR'].unique())"
   ]
  },
  {
   "cell_type": "markdown",
   "metadata": {},
   "source": [
    "## 11. Sanity Checks"
   ]
  },
  {
   "cell_type": "markdown",
   "metadata": {},
   "source": [
    "Finally sanity checks are to be performed upon the data.  These are to check for non-sensical values between related variables within the database, for example percentage variables for all the categories within a population not totalling 100% indicating either a category has been missed or a miscount has taken place.  Two sanity checks for the master dataset are outlined below followed by a running of the check and comment on the results.\n",
    "\n",
    "1.\tThe ‘P8CILOW’ and ‘P8CIUPP’ variables are descriptive statistics of the Progress 8 measure score for pupils within a school, namely the lower and upper 95% confidence interval (CI) boundaries respectively.  As the lower 95% CI boundary will never be greater than the upper 95% CI boundary we can initiate a sanity check by creating a new column subtracting the lower boundary value from the upper boundary value for each data entry.  A histogram plot for this new column should show no negative values to prove that the data is valid.\n",
    "<br><br>\n",
    "2.\tThe ‘OVERALL_DESTPER’, ‘NOT_SUSTAINEDPER’, and ‘UNKNOWNPER’ columns represent percentage values of all possible outcomes for whether pupils remain in education or employment after completing key stage 4.  A histogram of a column summing the values for these 3 variables for each data entry should show a population where all the values are equal to 100 for the data to be valid.\n"
   ]
  },
  {
   "cell_type": "markdown",
   "metadata": {},
   "source": [
    "### Sanity Check 1"
   ]
  },
  {
   "cell_type": "code",
   "execution_count": 19,
   "metadata": {
    "scrolled": false
   },
   "outputs": [
    {
     "data": {
      "text/plain": [
       "Text(0, 0.5, 'Number of schools')"
      ]
     },
     "execution_count": 19,
     "metadata": {},
     "output_type": "execute_result"
    },
    {
     "data": {
      "image/png": "[encoded data removed]",
      "text/plain": [
       "<Figure size 792x504 with 1 Axes>"
      ]
     },
     "metadata": {
      "needs_background": "light"
     },
     "output_type": "display_data"
    }
   ],
   "source": [
    "# creation of sanity check column\n",
    "df['check1'] = df['P8CIUPP'] - df['P8CILOW']\n",
    "\n",
    "# histogram plot of first sanity check\n",
    "plt.figure(figsize=(11,7))\n",
    "sns.distplot(df['check1'], kde=False)\n",
    "plt.title('Upper - Lower CI Bounds for School Progress 8 Measure Scores')\n",
    "plt.xlabel('Upper - Lower CI Bound Score')\n",
    "plt.ylabel('Number of schools')"
   ]
  },
  {
   "cell_type": "markdown",
   "metadata": {},
   "source": [
    "The histogram of the temporary check column shows no negative values as required for the data to be valid, therefore we can conclude that the sanity check has been passed."
   ]
  },
  {
   "cell_type": "markdown",
   "metadata": {},
   "source": [
    "### Sanity Check 2"
   ]
  },
  {
   "cell_type": "code",
   "execution_count": 20,
   "metadata": {
    "scrolled": false
   },
   "outputs": [
    {
     "data": {
      "text/plain": [
       "Text(0, 0.5, 'Number of schools')"
      ]
     },
     "execution_count": 20,
     "metadata": {},
     "output_type": "execute_result"
    },
    {
     "data": {
      "image/png": "[encoded data removed]",
      "text/plain": [
       "<Figure size 792x504 with 1 Axes>"
      ]
     },
     "metadata": {
      "needs_background": "light"
     },
     "output_type": "display_data"
    }
   ],
   "source": [
    "# temprarily convert non-numeric values to zero as set columns as floats to allow math functions\n",
    "df_temp = df.replace(['SUPP','NE','LOWCOV', 'SP'], 0)\n",
    "cols = ['OVERALL_DESTPER', 'NOT_SUSTAINEDPER', 'UNKNOWNPER']\n",
    "df_temp[cols].astype('float64', copy=False)\n",
    "\n",
    "# sum varaibles of interest\n",
    "df_temp['check2'] = df_temp['OVERALL_DESTPER'] + df_temp['NOT_SUSTAINEDPER'] + df_temp['UNKNOWNPER']\n",
    "\n",
    "# histogram plot of second sanity check\n",
    "plt.figure(figsize=(11,7))\n",
    "sns.distplot(df_temp['check2'], kde=False)\n",
    "plt.title('Percentage of pupil activity recorded after key stage 4')\n",
    "plt.xlabel('Percentage of pupil activity recorded after key stage 4')\n",
    "plt.xticks([0, 0.2, 0.4, 0.6, 0.8, 1.0], [0, 20, 40, 60, 80, 100])\n",
    "plt.ylabel('Number of schools')"
   ]
  },
  {
   "cell_type": "markdown",
   "metadata": {},
   "source": [
    "The histogram of the temporary check column shows all values at 100% (barring a small minority at 0% representing suppressed data) as required for the data to be valid, therefore we can conclude that the sanity check has been passed.\n",
    "<br><br>\n",
    "All checks how now been performed on the master dataset allowing us to progress to export the data for use in the further component exercises."
   ]
  },
  {
   "cell_type": "code",
   "execution_count": 21,
   "metadata": {},
   "outputs": [],
   "source": [
    "# remove temporary check column\n",
    "df.drop(columns='check1', inplace=True)\n",
    "\n",
    "# export master dataframe and key for use in future components\n",
    "df.to_csv(r'C:\\Users\\dave_\\OneDrive\\Documents\\MMU Data Science Masters\\Introduction to Data Science\\Assignment\\Data\\df.csv', index=False)"
   ]
  }
 ],
 "metadata": {
  "kernelspec": {
   "display_name": "Python 3",
   "language": "python",
   "name": "python3"
  },
  "language_info": {
   "codemirror_mode": {
    "name": "ipython",
    "version": 3
   },
   "file_extension": ".py",
   "mimetype": "text/x-python",
   "name": "python",
   "nbconvert_exporter": "python",
   "pygments_lexer": "ipython3",
   "version": "3.7.4"
  }
 },
 "nbformat": 4,
 "nbformat_minor": 2
}
